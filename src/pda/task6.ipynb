{
 "cells": [
  {
   "cell_type": "markdown",
   "id": "f3d85750",
   "metadata": {},
   "source": [
    "# Python ja data-analytiikka\n",
    "# Palautettava tehtävä 6"
   ]
  },
  {
   "cell_type": "markdown",
   "id": "94a154f5",
   "metadata": {},
   "source": [
    "## 1 Kirjastojen tuonti ja ympäristön esivalmistelu\n",
    "\n",
    "Tuodaan tarvittavat paketit: `requests` HTTP‐kyselyyn, `json` sanakirjan ja JSON‐merkkijonon välillä, `pandas` DataFrame‐käsittelyyn, `matplotlib.pyplot` kaavioihin, sekä `pyjstat` JSON‐statin muuntamiseen DataFrameksi.\n"
   ]
  },
  {
   "cell_type": "code",
   "execution_count": 32,
   "id": "aafa7935",
   "metadata": {},
   "outputs": [],
   "source": [
    "import requests\n",
    "import json\n",
    "import pandas as pd\n",
    "import matplotlib.pyplot as plt\n",
    "\n",
    "# Jupyter‐spesifinen asetus, että kaaviot näytetään notebook‐soluissa.\n",
    "%matplotlib inline\n",
    "\n",
    "# Tarkistetaan, että pyjstat on asennettuna.\n",
    "try:\n",
    "    from pyjstat import pyjstat\n",
    "except ImportError:\n",
    "    raise ImportError(\"Löytyi virhe: asenna pyjstat (pip install pyjstat) ja yritä uudelleen.\")\n"
   ]
  },
  {
   "cell_type": "markdown",
   "id": "9c919ae2",
   "metadata": {},
   "source": [
    "## 2 PxWeb‐palvelimen saavutettavuustarkistus\n",
    "\n",
    "Ennen kuin lähetämme JSON‐stat‐POST‐kyselyn, testaamme lyhyellä `GET .../?config` ‐pyynnöllä, että PxWeb 2 -­palvelin (\"pxweb2.stat.fi\") vastaa. Jos GET‐kutsu ei onnistu, hyppäämme loppuun asti.\n"
   ]
  },
  {
   "cell_type": "code",
   "execution_count": 33,
   "id": "0c07ae55",
   "metadata": {},
   "outputs": [
    {
     "name": "stdout",
     "output_type": "stream",
     "text": [
      "PxWeb 2 -palvelin on tavoitettavissa: status 200 OK\n",
      "\n"
     ]
    }
   ],
   "source": [
    "# ==================================================\n",
    "# Lyhyt GET‐pyrkimys PxWeb2 stat.fi:hin sen /?config‐osoitteella.\n",
    "# ==================================================\n",
    "\n",
    "pxweb_config_url = \"https://pxweb2.stat.fi/PxWeb/api/v1/fi/?config\"\n",
    "\n",
    "try:\n",
    "    r = requests.get(pxweb_config_url, timeout=5)\n",
    "    r.raise_for_status()\n",
    "    _ = r.json()\n",
    "    print(\"PxWeb 2 -palvelin on tavoitettavissa: status 200 OK\\n\")\n",
    "except Exception as e:\n",
    "    raise RuntimeError(f\"PxWeb 2 -palvelin ei ole saavutettavissa:\\n  {e}\")\n"
   ]
  },
  {
   "cell_type": "markdown",
   "id": "506572d1",
   "metadata": {},
   "source": [
    "## 3 Määritellään PxWeb‐POST‐kysely\n",
    "\n",
    "Kopioidaan “Alue”, “Vuosi” ja “Tiedot” -parametrit query‐sanakirjaan.  \n",
    "Tässä esimerkissä pyydämme:\n",
    "\n",
    "- Alue = [\"SSS\"]  (koko maa)  \n",
    "- Vuosi = top 2  (2 viimeisintä vuotta)  \n",
    "- Tiedot = [\"Väkiluku\"]  (väkiluvun arvo)\n",
    "\n",
    "Vastausformaatiksi pyydämme `json-stat2`."
   ]
  },
  {
   "cell_type": "code",
   "execution_count": 34,
   "id": "9cb5130f",
   "metadata": {},
   "outputs": [
    {
     "name": "stdout",
     "output_type": "stream",
     "text": [
      "Haetaan metadataa: https://pxweb2.stat.fi/PxWeb/api/v1/fi/StatFin/vaerak/statfin_vaerak_pxt_11rb.px\n",
      "\n",
      "=== meta.keys() ===\n",
      "['title', 'variables']\n",
      "\n",
      "=== Pieni otos meta‐sisällöstä (merkkijonona, max 200 merkkiä) ===\n",
      "{'title': 'Väestö 31.12. muuttujina Vuosi, Sukupuoli ja Tiedot',\n",
      " 'variables': [{'code': 'Vuosi',\n",
      "                'text': 'Vuosi',\n",
      "                'valueTexts': ['1750',\n",
      "                               ...\n"
     ]
    }
   ],
   "source": [
    "import pprint\n",
    "\n",
    "meta_url = \"https://pxweb2.stat.fi/PxWeb/api/v1/fi/StatFin/vaerak/statfin_vaerak_pxt_11rb.px\"\n",
    "print(\"Haetaan metadataa:\", meta_url)\n",
    "meta_resp = requests.get(meta_url, timeout=10)\n",
    "if meta_resp.status_code != 200:\n",
    "    raise RuntimeError(f\"Metadata GET epäonnistui: {meta_resp.status_code}\")\n",
    "\n",
    "meta = meta_resp.json()\n",
    "\n",
    "print(\"\\n=== meta.keys() ===\")\n",
    "pprint.pprint(list(meta.keys()))\n",
    "\n",
    "print(\"\\n=== Pieni otos meta‐sisällöstä (merkkijonona, max 200 merkkiä) ===\")\n",
    "meta_str = pprint.pformat(meta, width=100)\n",
    "print(meta_str[:200] + \" ...\")\n"
   ]
  },
  {
   "cell_type": "markdown",
   "id": "f9a17d4f",
   "metadata": {},
   "source": [
    "## 4 Lähetetään POST‐pyyntö ja tarkistetaan vastauskoodi\n",
    "\n",
    "Seuraavaksi serialisoimme `query` JSON‐merkkijonoksi ja lähetämme sen HTTP POST‐pyyntönä.  \n",
    "Luomme headerin `Content‐Type: application/json`, jotta PxWeb-​palvelin tietää odottaa JSON‐dataa.\n"
   ]
  },
  {
   "cell_type": "code",
   "execution_count": 35,
   "id": "29f6a557",
   "metadata": {},
   "outputs": [
    {
     "name": "stdout",
     "output_type": "stream",
     "text": [
      "=== Taulun 'variables'-lista ===\n",
      "[{'code': 'Vuosi', 'text': 'Vuosi', 'valueTexts': [...], 'values': [...]},\n",
      " {'code': 'Sukupuoli',\n",
      "  'elimination': True,\n",
      "  'text': 'Sukupuoli',\n",
      "  'valueTexts': [...],\n",
      "  'values': [...]},\n",
      " {'code': 'Tiedot', 'text': 'Tiedot', 'valueTexts': [...], 'values': [...]}]\n"
     ]
    }
   ],
   "source": [
    "print(\"=== Taulun 'variables'-lista ===\")\n",
    "pprint.pprint(meta[\"variables\"], depth=2, width=80, compact=True)\n"
   ]
  },
  {
   "cell_type": "code",
   "execution_count": 36,
   "id": "7e95bb3b",
   "metadata": {},
   "outputs": [
    {
     "name": "stdout",
     "output_type": "stream",
     "text": [
      "Lähetettävä JSON-stat query:\n",
      "{\n",
      "  \"query\": [\n",
      "    {\n",
      "      \"code\": \"Alue\",\n",
      "      \"selection\": {\n",
      "        \"filter\": \"item\",\n",
      "        \"values\": [\n",
      "          \"SSS\"\n",
      "        ]\n",
      "      }\n",
      "    },\n",
      "    {\n",
      "      \"code\": \"Vuosi\",\n",
      "      \"selection\": {\n",
      "        \"filter\": \"top\",\n",
      "        \"values\": [\n",
      "          \"2\"\n",
      "        ]\n",
      "      }\n",
      "    },\n",
      "    {\n",
      "      \"code\": \"Tiedot\",\n",
      "      \"selection\": {\n",
      "        \"filter\": \"item\",\n",
      "        \"values\": [\n",
      "          \"Väkiluku\"\n",
      "        ]\n",
      "      }\n",
      "    }\n",
      "  ]\n",
      "}\n"
     ]
    }
   ],
   "source": [
    "pxweb_url = \"https://pxweb2.stat.fi/PxWeb/api/v1/fi/StatFin/vaerak/statfin_vaerak_pxt_11rb.px\"\n",
    "\n",
    "query = {\n",
    "    \"query\": [\n",
    "        {\n",
    "            \"code\": \"Alue\",\n",
    "            \"selection\": {\n",
    "                \"filter\": \"item\",\n",
    "                \"values\": [\"SSS\"]  # Koko maa\n",
    "            }\n",
    "        },\n",
    "        {\n",
    "            \"code\": \"Vuosi\",\n",
    "            \"selection\": {\n",
    "                \"filter\": \"top\",\n",
    "                \"values\": [\"2\"]   # Kaksi uusinta vuotta\n",
    "            }\n",
    "        },\n",
    "        {\n",
    "            \"code\": \"Tiedot\",\n",
    "            \"selection\": {\n",
    "                \"filter\": \"item\",\n",
    "                \"values\": [\"Väkiluku\"]  # Kokonaisväkiluku\n",
    "            }\n",
    "        }\n",
    "    ],\n",
    "    # \"response\" asetetaan vasta API-kutsussa\n",
    "}\n",
    "\n",
    "print(\"Lähetettävä JSON-stat query:\")\n",
    "print(json.dumps(query, ensure_ascii=False, indent=2))\n"
   ]
  },
  {
   "cell_type": "markdown",
   "id": "5f068aee",
   "metadata": {},
   "source": [
    "## 5 JSON‐stat → pandas.DataFrame (pyjstat)\n",
    "\n",
    "Nyt meillä on muuttuja `data_dict`, joka sisältää JSON‐stat‐rakenteen sanakirjana.  \n",
    "Käytämme `pyjstat.Dataset.read(...)`‐metodia lukemaan tämän JSON‐stat‐sanakirjan ja muuttamaan sen DataFrameksi.\n"
   ]
  },
  {
   "cell_type": "code",
   "execution_count": 37,
   "id": "f7875bd1",
   "metadata": {},
   "outputs": [
    {
     "name": "stdout",
     "output_type": "stream",
     "text": [
      "Lähetetään POST https://pxweb2.stat.fi/PxWeb/api/v1/fi/StatFin/vaerak/statfin_vaerak_pxt_11rb.px (json-stat2) ...\n",
      "Palvelimen vastauskoodi: 400\n",
      "Palvelimen virheteksti (jos sellainen):\n",
      " Bad Request \n",
      "\n",
      "json-stat2 ei onnistunut; yritetään json-stat-muotoa...\n",
      "\n",
      "Palvelimen vastauskoodi (json-stat): 400\n",
      "Palvelimen virheteksti (jos sellainen):\n",
      " Bad Request \n",
      "\n"
     ]
    },
    {
     "ename": "RuntimeError",
     "evalue": "json-stat epäonnistui: status 400",
     "output_type": "error",
     "traceback": [
      "\u001b[31m---------------------------------------------------------------------------\u001b[39m",
      "\u001b[31mRuntimeError\u001b[39m                              Traceback (most recent call last)",
      "\u001b[36mCell\u001b[39m\u001b[36m \u001b[39m\u001b[32mIn[37]\u001b[39m\u001b[32m, line 32\u001b[39m\n\u001b[32m     30\u001b[39m         data_dict = r2.json()\n\u001b[32m     31\u001b[39m     \u001b[38;5;28;01melse\u001b[39;00m:\n\u001b[32m---> \u001b[39m\u001b[32m32\u001b[39m         \u001b[38;5;28;01mraise\u001b[39;00m \u001b[38;5;167;01mRuntimeError\u001b[39;00m(\u001b[33mf\u001b[39m\u001b[33m\"\u001b[39m\u001b[33mjson-stat epäonnistui: status \u001b[39m\u001b[38;5;132;01m{\u001b[39;00mr2.status_code\u001b[38;5;132;01m}\u001b[39;00m\u001b[33m\"\u001b[39m)\n\u001b[32m     33\u001b[39m \u001b[38;5;28;01melse\u001b[39;00m:\n\u001b[32m     34\u001b[39m     \u001b[38;5;28;01mraise\u001b[39;00m \u001b[38;5;167;01mRuntimeError\u001b[39;00m(\u001b[33mf\u001b[39m\u001b[33m\"\u001b[39m\u001b[33mjson-stat2 epäonnistui (status \u001b[39m\u001b[38;5;132;01m{\u001b[39;00mr.status_code\u001b[38;5;132;01m}\u001b[39;00m\u001b[33m)\u001b[39m\u001b[33m\"\u001b[39m)\n",
      "\u001b[31mRuntimeError\u001b[39m: json-stat epäonnistui: status 400"
     ]
    }
   ],
   "source": [
    "# ======================================================\n",
    "# POST-kutsu: yritetään ensin json-stat2, ja jos 400, yritetään json-stat\n",
    "# ======================================================\n",
    "\n",
    "headers = {\"Content-Type\": \"application/json\"}\n",
    "\n",
    "# Alkuperäinen json-stat2-pyyntö\n",
    "temp_query = query.copy()\n",
    "temp_query[\"response\"] = {\"format\": \"json-stat2\"}\n",
    "\n",
    "print(f\"Lähetetään POST {pxweb_url} (json-stat2) ...\")\n",
    "r = requests.post(pxweb_url, headers=headers, json=temp_query, timeout=15)\n",
    "\n",
    "print(\"Palvelimen vastauskoodi:\", r.status_code)\n",
    "print(\"Palvelimen virheteksti (jos sellainen):\\n\", r.text, \"\\n\")\n",
    "\n",
    "if r.status_code == 200:\n",
    "    print(\"Vastaus saatiin onnistuneesti (json-stat2): status 200 OK\\n\")\n",
    "    data_dict = r.json()\n",
    "else:\n",
    "    # Jos saadaan 400, vaihdetaan muoto json-stat\n",
    "    if r.status_code == 400:\n",
    "        print(\"json-stat2 ei onnistunut; yritetään json-stat-muotoa...\\n\")\n",
    "        temp_query[\"response\"] = {\"format\": \"json-stat\"}\n",
    "        r2 = requests.post(pxweb_url, headers=headers, json=temp_query, timeout=15)\n",
    "        print(\"Palvelimen vastauskoodi (json-stat):\", r2.status_code)\n",
    "        print(\"Palvelimen virheteksti (jos sellainen):\\n\", r2.text, \"\\n\")\n",
    "        if r2.status_code == 200:\n",
    "            print(\"Vastaus saatiin onnistuneesti (json-stat): status 200 OK\\n\")\n",
    "            data_dict = r2.json()\n",
    "        else:\n",
    "            raise RuntimeError(f\"json-stat epäonnistui: status {r2.status_code}\")\n",
    "    else:\n",
    "        raise RuntimeError(f\"json-stat2 epäonnistui (status {r.status_code})\")\n"
   ]
  },
  {
   "cell_type": "markdown",
   "id": "51de65a5",
   "metadata": {},
   "source": [
    "## 6 DataFramen siistiminen ja sarakkeiden uudelleennimeäminen\n",
    "\n",
    "Katsoimme, että `df` sisältää sarakkeet:  \n",
    "- `Vuosi`  (int tai str)  \n",
    "- `Alue`   (str)  \n",
    "- `Tiedot` (str, aina “Väkiluku” tässä)  \n",
    "- `value`  (luvun arvo, float tai int)\n",
    "\n",
    "Poistamme sarakkeen `Tiedot`, koska meillä on aina vain yksi valittu muuttuja (“Väkiluku”).  \n",
    "Annamme sarakkeelle `value` kuvaavamman nimen `Väkiluku`.\n"
   ]
  },
  {
   "cell_type": "code",
   "execution_count": 38,
   "id": "4e04e173",
   "metadata": {},
   "outputs": [
    {
     "ename": "NameError",
     "evalue": "name 'data_dict' is not defined",
     "output_type": "error",
     "traceback": [
      "\u001b[31m---------------------------------------------------------------------------\u001b[39m",
      "\u001b[31mNameError\u001b[39m                                 Traceback (most recent call last)",
      "\u001b[36mCell\u001b[39m\u001b[36m \u001b[39m\u001b[32mIn[38]\u001b[39m\u001b[32m, line 2\u001b[39m\n\u001b[32m      1\u001b[39m \u001b[38;5;66;03m# Muunnetaan sanakirja JSON‐merkkijonoksi, jonka pyjstat osaa lukea:\u001b[39;00m\n\u001b[32m----> \u001b[39m\u001b[32m2\u001b[39m data_str = json.dumps(\u001b[43mdata_dict\u001b[49m)\n\u001b[32m      4\u001b[39m \u001b[38;5;66;03m# Luodaan pyjstat Dataset ja muunnetaan DataFrameksi\u001b[39;00m\n\u001b[32m      5\u001b[39m dataset = pyjstat.Dataset.read(data_str)\n",
      "\u001b[31mNameError\u001b[39m: name 'data_dict' is not defined"
     ]
    }
   ],
   "source": [
    "# Muunnetaan sanakirja JSON‐merkkijonoksi, jonka pyjstat osaa lukea:\n",
    "data_str = json.dumps(data_dict)\n",
    "\n",
    "# Luodaan pyjstat Dataset ja muunnetaan DataFrameksi\n",
    "dataset = pyjstat.Dataset.read(data_str)\n",
    "df = dataset.write(\"dataframe\")\n",
    "\n",
    "# Näytetään ensimmäiset 10 riviä DataFramesta\n",
    "df.head(10)\n"
   ]
  },
  {
   "cell_type": "markdown",
   "id": "1dba8147",
   "metadata": {},
   "source": [
    "## 7 DataFramen varsinainen tarkastelu\n",
    "\n",
    "Tulostetaan vielä `df.info()` ja `df.describe()`, jotta näemme sarakkeiden tietotyypit ja peruskuvailut.\n"
   ]
  },
  {
   "cell_type": "code",
   "execution_count": 39,
   "id": "d4967654",
   "metadata": {},
   "outputs": [
    {
     "ename": "NameError",
     "evalue": "name 'df' is not defined",
     "output_type": "error",
     "traceback": [
      "\u001b[31m---------------------------------------------------------------------------\u001b[39m",
      "\u001b[31mNameError\u001b[39m                                 Traceback (most recent call last)",
      "\u001b[36mCell\u001b[39m\u001b[36m \u001b[39m\u001b[32mIn[39]\u001b[39m\u001b[32m, line 2\u001b[39m\n\u001b[32m      1\u001b[39m \u001b[38;5;66;03m# Tarkistetaan sarakenimet\u001b[39;00m\n\u001b[32m----> \u001b[39m\u001b[32m2\u001b[39m \u001b[38;5;28mprint\u001b[39m(\u001b[33m\"\u001b[39m\u001b[33mAlkuperäiset sarakkeet:\u001b[39m\u001b[33m\"\u001b[39m, \u001b[38;5;28mlist\u001b[39m(\u001b[43mdf\u001b[49m.columns))\n\u001b[32m      4\u001b[39m \u001b[38;5;66;03m# Poistetaan ’Tiedot’ sarake, jos olemassa\u001b[39;00m\n\u001b[32m      5\u001b[39m \u001b[38;5;28;01mif\u001b[39;00m \u001b[33m\"\u001b[39m\u001b[33mTiedot\u001b[39m\u001b[33m\"\u001b[39m \u001b[38;5;129;01min\u001b[39;00m df.columns:\n",
      "\u001b[31mNameError\u001b[39m: name 'df' is not defined"
     ]
    }
   ],
   "source": [
    "# Tarkistetaan sarakenimet\n",
    "print(\"Alkuperäiset sarakkeet:\", list(df.columns))\n",
    "\n",
    "# Poistetaan ’Tiedot’ sarake, jos olemassa\n",
    "if \"Tiedot\" in df.columns:\n",
    "    df = df.drop(columns=[\"Tiedot\"])\n",
    "\n",
    "# Rename ’value’ → ’Väkiluku’\n",
    "if \"value\" in df.columns:\n",
    "    df = df.rename(columns={\"value\": \"Väkiluku\"})\n",
    "\n",
    "# Näytetään siistitty DataFrame (ensimmäiset 10 riviä)\n",
    "print(\"\\nSiistitty DataFrame (ensimmäiset 10 riviä):\")\n",
    "df.head(10)\n"
   ]
  },
  {
   "cell_type": "markdown",
   "id": "d9d1b110",
   "metadata": {},
   "source": [
    "## 8 Kaavio 1: Aikasarjan viivakaavio (Line Plot)\n",
    "\n",
    "Piirretään vuosien 2022 ja 2023 väkiluku koko maahan:\n",
    "- x‐akseli = `Vuosi`\n",
    "- y‐akseli = `Väkiluku`\n",
    "- Marker = ’o’, viiva = ’-’\n",
    "\n",
    "Koska tässä DataFramessa on vain yksi alue (“SSS”), viivakaavio näyttää kahden pisteen sarjan. \n",
    "Jos haluaisimme useita alueita, pivottaisimme taulukon, mutta nyt emme tarvitse.\n"
   ]
  },
  {
   "cell_type": "code",
   "execution_count": null,
   "id": "442b4196",
   "metadata": {},
   "outputs": [],
   "source": [
    "# Päivämäärät (Vuosi) on merkkijonoina; muutetaan int‐muotoon, jos tarvitaan\n",
    "if df[\"Vuosi\"].dtype == object:\n",
    "    df[\"Vuosi\"] = df[\"Vuosi\"].astype(int)\n",
    "\n",
    "plt.figure(figsize=(8, 4))\n",
    "plt.plot(df[\"Vuosi\"], df[\"Väkiluku\"], marker=\"o\", linestyle=\"-\")\n",
    "plt.title(\"Väkiluku koko maassa (SSS) 2 viimeisen vuoden ajalta\")\n",
    "plt.xlabel(\"Vuosi\")\n",
    "plt.ylabel(\"Väkiluku\")\n",
    "plt.grid(True)\n",
    "plt.xticks(df[\"Vuosi\"].sort_values())  # varmista, että x‐merkit näkyvät 2022, 2023 yms.\n",
    "plt.tight_layout()\n",
    "plt.show()\n"
   ]
  },
  {
   "cell_type": "markdown",
   "id": "c73d165b",
   "metadata": {},
   "source": [
    "## 9 Kaavio 2: Pylväsdiagrammi (Bar Chart)\n",
    "\n",
    "Piirretään väkiluku pylväsdiagrammina viimeisimmälle vuodelle:\n",
    "- Valitaan rivi, jossa `Vuosi == df[\"Vuosi\"].max()`\n",
    "- x‐akseli = `\"Alue\"` (vain “SSS”, mutta tarvittaessa voi olla useita alueita)\n",
    "- y‐akseli = `\"Väkiluku\"`\n"
   ]
  },
  {
   "cell_type": "code",
   "execution_count": null,
   "id": "100b5556",
   "metadata": {},
   "outputs": [],
   "source": [
    "# Selvitetään viimeisin vuosi\n",
    "vuoden_maara = df[\"Vuosi\"].max()\n",
    "df_viimeisin = df[df[\"Vuosi\"] == vuoden_maara]\n",
    "\n",
    "# Piirretään pylväsdiagrammi\n",
    "plt.figure(figsize=(6, 4))\n",
    "plt.bar(df_viimeisin[\"Alue\"], df_viimeisin[\"Väkiluku\"])\n",
    "plt.title(f\"Väkiluku vuonna {vuoden_maara} (SSS)\")\n",
    "plt.xlabel(\"Alue\")\n",
    "plt.ylabel(\"Väkiluku\")\n",
    "plt.xticks(rotation=0)  # vain yksi alue, joten ei tarvita kallistusta\n",
    "plt.tight_layout()\n",
    "plt.show()\n"
   ]
  },
  {
   "cell_type": "markdown",
   "id": "b3df4871",
   "metadata": {},
   "source": [
    "## 10 Kaavio 3: Histogrammi (Histogram)\n",
    "\n",
    "Even though there are only two values (two years), we still meet the requirement of “three different chart types.”  \n",
    "Piirretään histogrammi sarakkeesta `\"Väkiluku\"`.  \n"
   ]
  },
  {
   "cell_type": "code",
   "execution_count": null,
   "id": "75b9ef7f",
   "metadata": {},
   "outputs": [],
   "source": [
    "plt.figure(figsize=(6, 4))\n",
    "plt.hist(df[\"Väkiluku\"], bins=2, edgecolor=\"black\")\n",
    "plt.title(\"Histogrammi: Väkiluvun jakauma (2 vuoden data)\")\n",
    "plt.xlabel(\"Väkiluku\")\n",
    "plt.ylabel(\"Frequentia\")\n",
    "plt.tight_layout()\n",
    "plt.show()\n"
   ]
  },
  {
   "cell_type": "markdown",
   "id": "4a1358cd",
   "metadata": {},
   "source": [
    "## 11) Yhteenveto ja tulokset\n",
    "\n",
    "Tässä notebookissa:\n",
    "1. Tarkistimme, että Tilastokeskuksen PxWeb 2 -palvelin oli saavutettavissa.  \n",
    "2. Lähetimme JSON‐stat‐POST‐kyselyn (Alue=SSS, Vuosi=top 2, Tiedot=Väkiluku).  \n",
    "3. Muunnoimme saadun JSON‐stat‐datan `pandas.DataFrame`ksi `pyjstat`:in avulla.  \n",
    "4. Siistimme DataFramen sarakkeet ja tarkastelimme perusmetriikoita.  \n",
    "5. Piirsimme kolme erilaista kaaviota (line plot, bar chart, histogram)."
   ]
  }
 ],
 "metadata": {
  "kernelspec": {
   "display_name": "env",
   "language": "python",
   "name": "python3"
  },
  "language_info": {
   "codemirror_mode": {
    "name": "ipython",
    "version": 3
   },
   "file_extension": ".py",
   "mimetype": "text/x-python",
   "name": "python",
   "nbconvert_exporter": "python",
   "pygments_lexer": "ipython3",
   "version": "3.12.10"
  }
 },
 "nbformat": 4,
 "nbformat_minor": 5
}
