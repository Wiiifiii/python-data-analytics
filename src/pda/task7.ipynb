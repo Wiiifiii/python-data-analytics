{
 "cells": [
  {
   "cell_type": "markdown",
   "id": "0bf56d8c",
   "metadata": {},
   "source": [
    "# Python ja data-analytiikka\n",
    "# Palautettava tehtävä 7"
   ]
  }
 ],
 "metadata": {
  "language_info": {
   "name": "python"
  }
 },
 "nbformat": 4,
 "nbformat_minor": 5
}
