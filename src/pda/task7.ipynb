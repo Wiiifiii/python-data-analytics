{
 "cells": [
  {
   "cell_type": "markdown",
   "id": "be190901",
   "metadata": {},
   "source": [
    "# Tehtävä 7: Aikasarjaennusteet\n",
    "\n",
    "Tässä notebookissa:\n",
    "1. **Tehtävä 1**: Ennustetaan lentomatkustajadatan vuoden 2023 perusteella vuoden 2024 kuukausittaiset matkustajamäärät (Holt-Winters) ja verrataan todellisiin arvoihin.\n",
    "2. **Tehtävä 2**: Ennustetaan vuosittainen kokonaishedelmällisyysluku (1776–2024) tuleville vuosille 2025–2034 käyttäen Holt-Winters -mallia ilman kausikomponenttia.  \n",
    "   - Piirretään ja tallennetaan viivakaavio historiallisen datan ja ennusteen yhdistelmästä.\n"
   ]
  },
  {
   "cell_type": "markdown",
   "id": "cee97d02",
   "metadata": {},
   "source": [
    "## 1) Kirjastojen tuonti ja oletusasetukset\n",
    "\n",
    "Tuodaan tarvittavat kirjastot (`pandas`, `numpy`, `matplotlib.pyplot`, `seaborn`, `statsmodels`, `requests`, `sys`, `json`).  \n",
    "Asetetaan visuaaliset asetukset Seabornille ja pandasille.\n"
   ]
  },
  {
   "cell_type": "code",
   "execution_count": 15,
   "id": "ac85c276",
   "metadata": {},
   "outputs": [],
   "source": [
    "import sys\n",
    "import json\n",
    "import requests\n",
    "import pandas as pd\n",
    "import numpy as np\n",
    "import matplotlib.pyplot as plt\n",
    "import seaborn as sns\n",
    "\n",
    "from statsmodels.tsa.holtwinters import ExponentialSmoothing\n",
    "\n",
    "# Visualisointien oletusasetukset\n",
    "sns.set_style(\"whitegrid\")\n",
    "plt.rcParams[\"figure.figsize\"] = (10, 5)\n",
    "\n",
    "# pandas näyttöasetukset, kun tulostetaan DataFrameja\n",
    "pd.set_option(\"display.max_rows\", 12)\n",
    "pd.set_option(\"display.max_columns\", None)"
   ]
  },
  {
   "cell_type": "markdown",
   "id": "edfc527a",
   "metadata": {},
   "source": [
    "## 2) Tehtävä 1: Lentomatkustajadatan aikasarjaennuste (vuosi 2024)\n",
    "\n",
    "1. Ladataan Excel-taulukko, jossa kuukausittaiset matkustajamäärät.\n",
    "2. Muunnetaan “Kuukausi”-sarake datetime-indeksiksi (`Pvm`) ja asetetaan `Matkustajat`-sarake aikasarjaksi.\n",
    "3. Sovitetaan Holt-Winters -malli koko aikasarjalle (trend=\"add\", seasonal=\"add\", period=12).\n",
    "4. Ennustetaan vuoden 2024 12 kuukautta.\n",
    "5. Suodatetaan vuoden 2024 todelliset arvot ja lasketaan ennusteen ja todellisten erotus.\n",
    "6. Piirretään hajontakaavio todellisten vs. ennustettujen arvojen vertailusta ja tallennetaan kuva tiedostoon."
   ]
  },
  {
   "cell_type": "code",
   "execution_count": 16,
   "id": "e83e7af1",
   "metadata": {},
   "outputs": [
    {
     "name": "stdout",
     "output_type": "stream",
     "text": [
      "Ladatut sarakkeet: ['Kuukausi', 'Matkustajat']\n"
     ]
    }
   ],
   "source": [
    "'''\n",
    "1) Ladataan Excel-tiedosto lentomatkustajadatasta.\n",
    "'''\n",
    "excel_path = r\"D:\\GitHub\\PythonDataAnalytics\\doc\\lentomatkustajat.xlsx\"\n",
    "df_all = pd.read_excel(excel_path, sheet_name=0, engine=\"openpyxl\")\n",
    "\n",
    "print(\"Ladatut sarakkeet:\", df_all.columns.tolist())"
   ]
  },
  {
   "cell_type": "code",
   "execution_count": 17,
   "id": "551631cd",
   "metadata": {},
   "outputs": [
    {
     "name": "stdout",
     "output_type": "stream",
     "text": [
      "Esimerkki aikasarjasta (2019–2024 loppu):\n",
      "Pvm\n",
      "2019-01-01    798402\n",
      "2019-02-01    761165\n",
      "2019-03-01    887909\n",
      "2019-04-01    904297\n",
      "2019-05-01    974604\n",
      "Freq: MS, Name: Matkustajat, dtype: int64\n",
      "\n",
      "...\n",
      "Pvm\n",
      "2024-10-01    743552\n",
      "2024-11-01    634464\n",
      "2024-12-01    659934\n",
      "2025-01-01    608118\n",
      "2025-02-01    590610\n",
      "Freq: MS, Name: Matkustajat, dtype: int64\n"
     ]
    }
   ],
   "source": [
    "'''\n",
    "2) Muunnetaan 'Kuukausi' merkkijonosta datetime-indeksiksi ja asetetaan se DataFramen indeksiksi.\n",
    "'''\n",
    "df_all[\"Pvm\"] = pd.to_datetime(df_all[\"Kuukausi\"], format=\"%YM%m\")\n",
    "df_all = df_all.set_index(\"Pvm\").sort_index()\n",
    "\n",
    "# Otetaan sarake 'Matkustajat' aikasarjaksi\n",
    "ts_all = df_all[\"Matkustajat\"].copy()\n",
    "ts_all.index.freq = \"MS\"\n",
    "\n",
    "print(\"Esimerkki aikasarjasta (2019–2024 loppu):\")\n",
    "print(ts_all.head(), \"\\n...\", ts_all.tail(), sep=\"\\n\")"
   ]
  },
  {
   "cell_type": "code",
   "execution_count": 18,
   "id": "34ceb055",
   "metadata": {},
   "outputs": [
    {
     "name": "stdout",
     "output_type": "stream",
     "text": [
      "Ennustetut arvot vuodelle 2024:\n"
     ]
    },
    {
     "name": "stderr",
     "output_type": "stream",
     "text": [
      "d:\\GitHub\\PythonDataAnalytics\\env\\Lib\\site-packages\\statsmodels\\tsa\\holtwinters\\model.py:918: ConvergenceWarning: Optimization failed to converge. Check mle_retvals.\n",
      "  warnings.warn(\n"
     ]
    },
    {
     "data": {
      "text/html": [
       "<div>\n",
       "<style scoped>\n",
       "    .dataframe tbody tr th:only-of-type {\n",
       "        vertical-align: middle;\n",
       "    }\n",
       "\n",
       "    .dataframe tbody tr th {\n",
       "        vertical-align: top;\n",
       "    }\n",
       "\n",
       "    .dataframe thead th {\n",
       "        text-align: right;\n",
       "    }\n",
       "</style>\n",
       "<table border=\"1\" class=\"dataframe\">\n",
       "  <thead>\n",
       "    <tr style=\"text-align: right;\">\n",
       "      <th></th>\n",
       "      <th>Ennuste2024</th>\n",
       "    </tr>\n",
       "  </thead>\n",
       "  <tbody>\n",
       "    <tr>\n",
       "      <th>2024-01-01</th>\n",
       "      <td>553917.797021</td>\n",
       "    </tr>\n",
       "    <tr>\n",
       "      <th>2024-02-01</th>\n",
       "      <td>454462.674089</td>\n",
       "    </tr>\n",
       "    <tr>\n",
       "      <th>2024-03-01</th>\n",
       "      <td>492013.073706</td>\n",
       "    </tr>\n",
       "    <tr>\n",
       "      <th>2024-04-01</th>\n",
       "      <td>515599.929944</td>\n",
       "    </tr>\n",
       "    <tr>\n",
       "      <th>2024-05-01</th>\n",
       "      <td>598263.768325</td>\n",
       "    </tr>\n",
       "  </tbody>\n",
       "</table>\n",
       "</div>"
      ],
      "text/plain": [
       "              Ennuste2024\n",
       "2024-01-01  553917.797021\n",
       "2024-02-01  454462.674089\n",
       "2024-03-01  492013.073706\n",
       "2024-04-01  515599.929944\n",
       "2024-05-01  598263.768325"
      ]
     },
     "execution_count": 18,
     "metadata": {},
     "output_type": "execute_result"
    }
   ],
   "source": [
    "'''\n",
    "3) Sovitetaan Holt-Winters -malli koko dataan (add trend, add season, period=12).\n",
    "   Ennustetaan vuoden 2024 matkustajamäärät (12 kuukautta).\n",
    "'''\n",
    "hw_model_all = ExponentialSmoothing(\n",
    "    ts_all,\n",
    "    trend=\"add\",\n",
    "    seasonal=\"add\",\n",
    "    seasonal_periods=12\n",
    ").fit(optimized=True)\n",
    "\n",
    "forecast_2024 = hw_model_all.forecast(12)\n",
    "forecast_2024.index = pd.date_range(start=\"2024-01-01\", periods=12, freq=\"MS\")\n",
    "forecast_2024.name = \"Ennuste2024\"\n",
    "\n",
    "print(\"Ennustetut arvot vuodelle 2024:\")\n",
    "forecast_2024.to_frame().head(5)"
   ]
  },
  {
   "cell_type": "code",
   "execution_count": 19,
   "id": "01f00990",
   "metadata": {},
   "outputs": [
    {
     "name": "stdout",
     "output_type": "stream",
     "text": [
      "Vertailu DataFrame (2024):\n"
     ]
    },
    {
     "data": {
      "text/html": [
       "<div>\n",
       "<style scoped>\n",
       "    .dataframe tbody tr th:only-of-type {\n",
       "        vertical-align: middle;\n",
       "    }\n",
       "\n",
       "    .dataframe tbody tr th {\n",
       "        vertical-align: top;\n",
       "    }\n",
       "\n",
       "    .dataframe thead th {\n",
       "        text-align: right;\n",
       "    }\n",
       "</style>\n",
       "<table border=\"1\" class=\"dataframe\">\n",
       "  <thead>\n",
       "    <tr style=\"text-align: right;\">\n",
       "      <th></th>\n",
       "      <th>Todellinen2024</th>\n",
       "      <th>Ennuste2024</th>\n",
       "      <th>Erotus</th>\n",
       "    </tr>\n",
       "  </thead>\n",
       "  <tbody>\n",
       "    <tr>\n",
       "      <th>2024-01-01</th>\n",
       "      <td>563864</td>\n",
       "      <td>553917.797021</td>\n",
       "      <td>-9946.202979</td>\n",
       "    </tr>\n",
       "    <tr>\n",
       "      <th>2024-02-01</th>\n",
       "      <td>560131</td>\n",
       "      <td>454462.674089</td>\n",
       "      <td>-105668.325911</td>\n",
       "    </tr>\n",
       "    <tr>\n",
       "      <th>2024-03-01</th>\n",
       "      <td>650377</td>\n",
       "      <td>492013.073706</td>\n",
       "      <td>-158363.926294</td>\n",
       "    </tr>\n",
       "    <tr>\n",
       "      <th>2024-04-01</th>\n",
       "      <td>648527</td>\n",
       "      <td>515599.929944</td>\n",
       "      <td>-132927.070056</td>\n",
       "    </tr>\n",
       "    <tr>\n",
       "      <th>2024-05-01</th>\n",
       "      <td>707745</td>\n",
       "      <td>598263.768325</td>\n",
       "      <td>-109481.231675</td>\n",
       "    </tr>\n",
       "    <tr>\n",
       "      <th>2024-06-01</th>\n",
       "      <td>759746</td>\n",
       "      <td>562485.469003</td>\n",
       "      <td>-197260.530997</td>\n",
       "    </tr>\n",
       "    <tr>\n",
       "      <th>2024-07-01</th>\n",
       "      <td>824956</td>\n",
       "      <td>525486.211255</td>\n",
       "      <td>-299469.788745</td>\n",
       "    </tr>\n",
       "    <tr>\n",
       "      <th>2024-08-01</th>\n",
       "      <td>742143</td>\n",
       "      <td>545494.261251</td>\n",
       "      <td>-196648.738749</td>\n",
       "    </tr>\n",
       "    <tr>\n",
       "      <th>2024-09-01</th>\n",
       "      <td>708998</td>\n",
       "      <td>474606.724525</td>\n",
       "      <td>-234391.275475</td>\n",
       "    </tr>\n",
       "    <tr>\n",
       "      <th>2024-10-01</th>\n",
       "      <td>743552</td>\n",
       "      <td>511323.591427</td>\n",
       "      <td>-232228.408573</td>\n",
       "    </tr>\n",
       "    <tr>\n",
       "      <th>2024-11-01</th>\n",
       "      <td>634464</td>\n",
       "      <td>467440.272151</td>\n",
       "      <td>-167023.727849</td>\n",
       "    </tr>\n",
       "    <tr>\n",
       "      <th>2024-12-01</th>\n",
       "      <td>659934</td>\n",
       "      <td>436039.844608</td>\n",
       "      <td>-223894.155392</td>\n",
       "    </tr>\n",
       "  </tbody>\n",
       "</table>\n",
       "</div>"
      ],
      "text/plain": [
       "            Todellinen2024    Ennuste2024         Erotus\n",
       "2024-01-01          563864  553917.797021   -9946.202979\n",
       "2024-02-01          560131  454462.674089 -105668.325911\n",
       "2024-03-01          650377  492013.073706 -158363.926294\n",
       "2024-04-01          648527  515599.929944 -132927.070056\n",
       "2024-05-01          707745  598263.768325 -109481.231675\n",
       "2024-06-01          759746  562485.469003 -197260.530997\n",
       "2024-07-01          824956  525486.211255 -299469.788745\n",
       "2024-08-01          742143  545494.261251 -196648.738749\n",
       "2024-09-01          708998  474606.724525 -234391.275475\n",
       "2024-10-01          743552  511323.591427 -232228.408573\n",
       "2024-11-01          634464  467440.272151 -167023.727849\n",
       "2024-12-01          659934  436039.844608 -223894.155392"
      ]
     },
     "execution_count": 19,
     "metadata": {},
     "output_type": "execute_result"
    }
   ],
   "source": [
    "'''\n",
    "4) Suodatetaan vuoden 2024 todelliset arvot ja lasketaan erotus ennusteeseen verrattuna.\n",
    "'''\n",
    "ts_2024 = ts_all[ts_all.index.year == 2024].copy()\n",
    "ts_2024.index.freq = \"MS\"\n",
    "ts_2024.name = \"Todellinen2024\"\n",
    "\n",
    "df_compare = pd.DataFrame({\n",
    "    \"Todellinen2024\": ts_2024,\n",
    "    \"Ennuste2024\": forecast_2024\n",
    "})\n",
    "df_compare[\"Erotus\"] = df_compare[\"Ennuste2024\"] - df_compare[\"Todellinen2024\"]\n",
    "\n",
    "print(\"Vertailu DataFrame (2024):\")\n",
    "df_compare"
   ]
  },
  {
   "cell_type": "code",
   "execution_count": 20,
   "id": "0b7c4515",
   "metadata": {},
   "outputs": [
    {
     "data": {
      "image/png": "[encoded data removed]",
      "text/plain": [
       "<Figure size 600x600 with 1 Axes>"
      ]
     },
     "metadata": {},
     "output_type": "display_data"
    }
   ],
   "source": [
    "'''\n",
    "5) Piirretään hajontakaavio: Todellinen vs. Ennustettu 2024 ja tallennetaan kuva.\n",
    "'''\n",
    "plt.figure(figsize=(6, 6))\n",
    "sns.scatterplot(\n",
    "    x=\"Todellinen2024\",\n",
    "    y=\"Ennuste2024\",\n",
    "    data=df_compare,\n",
    "    s=50,\n",
    "    color=\"tab:blue\"\n",
    ")\n",
    "# Lisätään y=x -viiva\n",
    "lims = [\n",
    "    min(df_compare[[\"Todellinen2024\", \"Ennuste2024\"]].min()) * 0.9,\n",
    "    max(df_compare[[\"Todellinen2024\", \"Ennuste2024\"]].max()) * 1.1\n",
    "]\n",
    "plt.plot(lims, lims, ls=\"--\", color=\"gray\")\n",
    "plt.xlabel(\"Todellinen (2024)\")\n",
    "plt.ylabel(\"Ennustettu (2024)\")\n",
    "plt.title(\"Hajontakaavio: Todellinen vs. Ennustettu (2024)\")\n",
    "plt.tight_layout()\n",
    "plt.savefig(\"fertility_2024_scatter.png\")\n",
    "plt.show()"
   ]
  },
  {
   "cell_type": "markdown",
   "id": "742f3e83",
   "metadata": {},
   "source": [
    "## 3) Tehtävä 2: Vuosittaisen kokonaishedelmällisyysluvun ennuste (2025–2034)\n",
    "\n",
    "1. Määritellään vuosilista 1776–2024 ja PX-Web URL JSON-stat2-pyyntöön.\n",
    "2. Luodaan funktio `fetch_pxweb_data`, joka hakee JSON-stat2-datan ja muuntaa sen DataFrameksi.\n",
    "3. Haetaan vuosittainen hedelmällisyysdata (1776–2024), muutetaan `Year` datetime-indeksiksi ja muodostetaan aikasarja ilman kausikomponenttia.\n",
    "4. Sovitetaan Holt-Winters -malli ilman kausikomponenttia (trend=\"add\", seasonal=None) historialliseen dataan.\n",
    "5. Ennustetaan vuodet 2025–2034 ja yhdistetään historia ja ennuste yhdeksi DataFrameksi.  \n",
    "6. Piirretään viivakaavio historiallisista arvoista ja ennusteesta, ja tallennetaan kuva tiedostoon."
   ]
  },
  {
   "cell_type": "code",
   "execution_count": 21,
   "id": "69a3863b",
   "metadata": {},
   "outputs": [],
   "source": [
    "'''\n",
    "1) Määritellään vuosilista ja PX-Web-osoite\n",
    "'''\n",
    "all_years = [str(y) for y in range(1776, 2025)]\n",
    "\n",
    "PXWEB_URL = (\n",
    "    \"https://pxdata.stat.fi/PxWeb/api/v1/fi/StatFin/\"\n",
    "    \"synt/statfin_synt_pxt_12dt.px\"\n",
    ")\n",
    "\n",
    "query_payload_annual = {\n",
    "    \"query\": [\n",
    "        {\"code\": \"Vuosi\",  \"selection\": {\"filter\": \"item\", \"values\": all_years}},\n",
    "        {\"code\": \"Tiedot\", \"selection\": {\"filter\": \"item\", \"values\": [\"tfr\"]}}\n",
    "    ],\n",
    "    \"response\": {\"format\": \"json-stat2\"}\n",
    "}\n",
    "\n",
    "def fetch_pxweb_data(url: str, payload: dict) -> pd.DataFrame:\n",
    "    \"\"\"\n",
    "    Lähettää POST-pyynnön JSON-stat2-payloadilla ja muuntaa vastauksen DataFrameksi,\n",
    "    jossa sarakkeet ['Year', 'Indicator', 'FertilityRate'].\n",
    "    \"\"\"\n",
    "    try:\n",
    "        resp = requests.post(url, json=payload, timeout=30)\n",
    "        resp.raise_for_status()\n",
    "    except requests.RequestException as e:\n",
    "        if hasattr(e, \"response\") and e.response is not None:\n",
    "            print(\"\\n=== VASTAUS TEKSTINÄ ===\\n\", e.response.text, file=sys.stderr)\n",
    "        print(\"VIRHE: Tietojen haku epäonnistui:\", e, file=sys.stderr)\n",
    "        sys.exit(1)\n",
    "\n",
    "    text = resp.text.strip()\n",
    "    if len(text) == 0:\n",
    "        print(\"\\n=== VASTAUS OLI TYHJÄ ===\\n\", file=sys.stderr)\n",
    "        sys.exit(1)\n",
    "\n",
    "    try:\n",
    "        json_data = resp.json()\n",
    "    except ValueError:\n",
    "        print(\"\\n=== VASTAUS EI OLE JSONIA (raaka teksti alla) ===\\n\", text, file=sys.stderr)\n",
    "        sys.exit(1)\n",
    "\n",
    "    # JSON voi olla \"dataset\"-avaimen alla tai olla suoraan dataset-luokan instanssi\n",
    "    if \"dataset\" in json_data:\n",
    "        ds = json_data[\"dataset\"]\n",
    "    elif json_data.get(\"class\") == \"dataset\":\n",
    "        ds = json_data\n",
    "    else:\n",
    "        print(\n",
    "            \"\\n=== JSON EI SISÄLLÄ 'dataset' eikä class='dataset'. Koko JSON: ===\\n\",\n",
    "            json.dumps(json_data, ensure_ascii=False, indent=2),\n",
    "            file=sys.stderr\n",
    "        )\n",
    "        sys.exit(1)\n",
    "\n",
    "    dims = ds[\"dimension\"]\n",
    "    dim_keys = [k for k in dims.keys() if k != \"value\"]\n",
    "    index_lists = [dims[key][\"category\"][\"index\"] for key in dim_keys]\n",
    "\n",
    "    # Rakennetaan kartesiolähteinen MultiIndex\n",
    "    mindex = pd.MultiIndex.from_product(index_lists, names=dim_keys)\n",
    "    values = ds[\"value\"]\n",
    "\n",
    "    df = pd.DataFrame({\"Value\": values}, index=mindex).reset_index()\n",
    "    df = df.rename(columns={\n",
    "        \"Vuosi\": \"Year\",\n",
    "        \"Tiedot\": \"Indicator\",\n",
    "        \"Value\": \"FertilityRate\"\n",
    "    })\n",
    "    return df"
   ]
  },
  {
   "cell_type": "code",
   "execution_count": 22,
   "id": "4cf6a6b7",
   "metadata": {},
   "outputs": [
    {
     "name": "stdout",
     "output_type": "stream",
     "text": [
      "Vuosittainen aikasarja (esim. 1776–2024):\n"
     ]
    },
    {
     "data": {
      "text/plain": [
       "(Year_dt\n",
       " 1776-01-01    5.42\n",
       " 1777-01-01    5.51\n",
       " 1778-01-01    5.82\n",
       " 1779-01-01    5.91\n",
       " 1780-01-01    5.71\n",
       " Freq: YS-JAN, Name: FertilityRate, dtype: float64,\n",
       " Year_dt\n",
       " 2020-01-01    1.37\n",
       " 2021-01-01    1.46\n",
       " 2022-01-01    1.32\n",
       " 2023-01-01    1.26\n",
       " 2024-01-01    1.25\n",
       " Freq: YS-JAN, Name: FertilityRate, dtype: float64)"
      ]
     },
     "execution_count": 22,
     "metadata": {},
     "output_type": "execute_result"
    }
   ],
   "source": [
    "'''\n",
    "2) Haetaan vuosittainen kokonaishedelmällisyysdata 1776–2024.\n",
    "'''\n",
    "df_annual = fetch_pxweb_data(PXWEB_URL, query_payload_annual)\n",
    "\n",
    "# Muutetaan 'Year' datetime-indeksiksi ja asetetaan se DataFrame-indeksiksi\n",
    "df_annual[\"Year_dt\"] = pd.to_datetime(df_annual[\"Year\"], format=\"%Y\")\n",
    "df_annual = df_annual.set_index(\"Year_dt\").sort_index()\n",
    "\n",
    "# Luodaan aikasarja ilman kausikomponenttia\n",
    "ts_annual = df_annual[\"FertilityRate\"].copy()\n",
    "ts_annual.index.freq = \"YS\"  # Year Start\n",
    "\n",
    "print(\"Vuosittainen aikasarja (esim. 1776–2024):\")\n",
    "ts_annual.head(), ts_annual.tail()"
   ]
  },
  {
   "cell_type": "code",
   "execution_count": 23,
   "id": "c6cbefdf",
   "metadata": {},
   "outputs": [
    {
     "name": "stdout",
     "output_type": "stream",
     "text": [
      "Ennuste vuosille 2025–2034:\n"
     ]
    },
    {
     "data": {
      "text/html": [
       "<div>\n",
       "<style scoped>\n",
       "    .dataframe tbody tr th:only-of-type {\n",
       "        vertical-align: middle;\n",
       "    }\n",
       "\n",
       "    .dataframe tbody tr th {\n",
       "        vertical-align: top;\n",
       "    }\n",
       "\n",
       "    .dataframe thead th {\n",
       "        text-align: right;\n",
       "    }\n",
       "</style>\n",
       "<table border=\"1\" class=\"dataframe\">\n",
       "  <thead>\n",
       "    <tr style=\"text-align: right;\">\n",
       "      <th></th>\n",
       "      <th>EnnusteFertility</th>\n",
       "    </tr>\n",
       "  </thead>\n",
       "  <tbody>\n",
       "    <tr>\n",
       "      <th>2025-01-01</th>\n",
       "      <td>1.243103</td>\n",
       "    </tr>\n",
       "    <tr>\n",
       "      <th>2026-01-01</th>\n",
       "      <td>1.225917</td>\n",
       "    </tr>\n",
       "    <tr>\n",
       "      <th>2027-01-01</th>\n",
       "      <td>1.208731</td>\n",
       "    </tr>\n",
       "    <tr>\n",
       "      <th>2028-01-01</th>\n",
       "      <td>1.191545</td>\n",
       "    </tr>\n",
       "    <tr>\n",
       "      <th>2029-01-01</th>\n",
       "      <td>1.174359</td>\n",
       "    </tr>\n",
       "  </tbody>\n",
       "</table>\n",
       "</div>"
      ],
      "text/plain": [
       "            EnnusteFertility\n",
       "2025-01-01          1.243103\n",
       "2026-01-01          1.225917\n",
       "2027-01-01          1.208731\n",
       "2028-01-01          1.191545\n",
       "2029-01-01          1.174359"
      ]
     },
     "execution_count": 23,
     "metadata": {},
     "output_type": "execute_result"
    }
   ],
   "source": [
    "'''\n",
    "3) Sovitetaan Holt-Winters -malli ilman kausikomponenttia (trend=\"add\").\n",
    "   Ennustetaan vuodet 2025–2034 (10 vuotta).\n",
    "'''\n",
    "hw_model_annual = ExponentialSmoothing(\n",
    "    ts_annual,\n",
    "    trend=\"add\",\n",
    "    seasonal=None,\n",
    "    seasonal_periods=None\n",
    ").fit(optimized=True)\n",
    "\n",
    "forecast_years = 10\n",
    "forecast_index = pd.date_range(start=\"2025-01-01\", periods=forecast_years, freq=\"YS\")\n",
    "forecast_annual = hw_model_annual.forecast(forecast_years)\n",
    "forecast_annual.index = forecast_index\n",
    "forecast_annual.name = \"EnnusteFertility\"\n",
    "\n",
    "print(\"Ennuste vuosille 2025–2034:\")\n",
    "forecast_annual.to_frame().head(5)"
   ]
  },
  {
   "cell_type": "code",
   "execution_count": 24,
   "id": "4312add6",
   "metadata": {},
   "outputs": [
    {
     "name": "stdout",
     "output_type": "stream",
     "text": [
      "Koottu DataFrame (historia + ennuste):\n"
     ]
    },
    {
     "data": {
      "text/plain": [
       "(            HistorianFertility  EnnusteFertility\n",
       " 1776-01-01                5.42               NaN\n",
       " 1777-01-01                5.51               NaN\n",
       " 1778-01-01                5.82               NaN,\n",
       "             HistorianFertility  EnnusteFertility\n",
       " 2032-01-01                 NaN          1.122802\n",
       " 2033-01-01                 NaN          1.105616\n",
       " 2034-01-01                 NaN          1.088430)"
      ]
     },
     "execution_count": 24,
     "metadata": {},
     "output_type": "execute_result"
    }
   ],
   "source": [
    "'''\n",
    "4) Yhdistetään historia ja ennuste ja piirretään viivakaavio.\n",
    "   Tallennetaan kuva tiedostoon 'fertility_annual_forecast_2034.png'.\n",
    "'''\n",
    "df_hist = ts_annual.to_frame(name=\"HistorianFertility\")\n",
    "df_fore = forecast_annual.to_frame(name=\"EnnusteFertility\")\n",
    "df_full = pd.concat([df_hist, df_fore], axis=0)\n",
    "\n",
    "print(\"Koottu DataFrame (historia + ennuste):\")\n",
    "df_full.head(3), df_full.tail(3)"
   ]
  },
  {
   "cell_type": "code",
   "execution_count": 25,
   "id": "2ca13866",
   "metadata": {},
   "outputs": [
    {
     "data": {
      "image/png": "[encoded data removed]",
      "text/plain": [
       "<Figure size 1000x500 with 1 Axes>"
      ]
     },
     "metadata": {},
     "output_type": "display_data"
    }
   ],
   "source": [
    "plt.figure(figsize=(10, 5))\n",
    "plt.plot(df_full.index, df_full[\"HistorianFertility\"], label=\"HistorianFertility\")\n",
    "plt.plot(df_full.index, df_full[\"EnnusteFertility\"], label=\"EnnusteFertility\", linestyle=\"--\")\n",
    "plt.title(\"Vuosittainen kokonaishedelmällisyysluku (1776–2034)\")\n",
    "plt.xlabel(\"Vuosi\")\n",
    "plt.ylabel(\"Kokonaishedelmällisyysluku\")\n",
    "plt.legend()\n",
    "plt.tight_layout()\n",
    "plt.savefig(\"fertility_annual_forecast_2034.png\")\n",
    "plt.show()"
   ]
  },
  {
   "cell_type": "markdown",
   "id": "361c0a0a",
   "metadata": {},
   "source": [
    "# Yhteenveto\n",
    "\n",
    "Jupyter-notebookissa:\n",
    "- **Tehtävä 1**:   \n",
    "  - Ladataan lentomatkustajadatan Excel, muutetaan `Kuukausi` datetime-indeksiksi ja sovitetaan Holt-Winters (trend=\"add\", seasonal=\"add\", period=12).  \n",
    "  - Ennustetaan vuoden 2024 kuukausittaiset matkustajamäärät, verrataan vuoden 2024 todellisiin arvoihin ja esitetään ero DataFrame-muodossa.  \n",
    "  - Piirretään hajontakaavio todellisen ja ennustetun vertailusta ja tallennetaan kuva `fertility_2024_scatter.png`.\n",
    "- **Tehtävä 2**:  \n",
    "  - Haetaan vuosittainen kokonaishedelmällisyysluku (tfr) JSON-stat2-rajapinnasta (vuodet 1776–2024).  \n",
    "  - Muutetaan `Year` datetime-indeksiksi ja sovitetaan Holt-Winters ilman kausikomponenttia (trend=\"add\").  \n",
    "  - Ennustetaan vuodet 2025–2034 ja yhdistetään ennuste historiallisiin arvoihin.  \n",
    "  - Piirretään viivakaavio historiallisen datan ja ennusteen yhdistelmästä, tallennetaan kuva `fertility_annual_forecast_2034.png`."
   ]
  }
 ],
 "metadata": {
  "kernelspec": {
   "display_name": "env",
   "language": "python",
   "name": "python3"
  },
  "language_info": {
   "codemirror_mode": {
    "name": "ipython",
    "version": 3
   },
   "file_extension": ".py",
   "mimetype": "text/x-python",
   "name": "python",
   "nbconvert_exporter": "python",
   "pygments_lexer": "ipython3",
   "version": "3.12.10"
  }
 },
 "nbformat": 4,
 "nbformat_minor": 5
}
