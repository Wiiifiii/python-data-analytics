{
 "cells": [
  {
   "cell_type": "markdown",
   "id": "fa9c6b1c",
   "metadata": {},
   "source": [
    "# Python ja data-analytiikka\n",
    "# Palautettava tehtävä 5"
   ]
  },
  {
   "cell_type": "code",
   "execution_count": 1,
   "id": "57733a40",
   "metadata": {},
   "outputs": [
    {
     "name": "stdout",
     "output_type": "stream",
     "text": [
      "Columns available:\n",
      " ['Aikaleima', 'Kuinka löysit aiheesi?', 'Opinnäytetyöni oli hankkeistettu', 'Oliko työsi teoreettinen vai käytännöllinen? Teoreettinen (1) - Käytännöllinen (5)', 'Pystyin itse vaikuttamaan aiheen valintaan', 'Olin innostunut opinnäytetyötä tehdessäni', 'Pystyin itse vaikuttamaan opinnäytetyöni ohjaajan valintaan', 'Sain riittävästi ohjausta', 'Hankin itse aktiivisesti tietoa työni aiheesta', 'Tutkimusaiheeni kiinnosti minua', 'Sain muilta opiskelijoilta tukea työni tekemisessä', 'Työn toimeksiantaja oli kiinnostunut työstäni', 'Työn toimeksiantaja oli kiinnostunut ohjaamaan työtäni', 'Ohjaajani panos tuki työtäni', 'Saamani ohjaus oli asiantuntevaa', 'Valmistauduin ohjauspalavereihin', 'Saamani ohjaus oli motivoivaa', 'Työni ohjaaja vastasi nopeasti tiedusteluihini', 'Ohjaustilanteet eivät tuntuneet minusta pelottavilta', 'Ohjaajaani oli helppo lähestyä', 'Luotin ohjaajani neuvoihin', 'Eri ohjaustapojen käyttäminen ja niiden hyödyllisyys: Seminaarit', 'Eri ohjaustapojen käyttäminen ja niiden hyödyllisyys: Henkilökohtaiset tapaamiset ohjaajan kanssa', 'Eri ohjaustapojen käyttäminen ja niiden hyödyllisyys: Sähköiset yhteydet\\xa0ohjaajan kanssa', 'Eri ohjaustapojen käyttäminen ja niiden hyödyllisyys: Keskustelut toimeksiantajan kanssa', 'Hyödyllisyys: Seminaarit', 'Hyödyllisyys:Henkilökohtaiset tapaamiset ohjaajan kanssa', 'Hyödyllisyys: Sähköiset yhteydet\\xa0ohjaajan kanssa', 'Hyödyllisyys: Keskustelut toimeksiantajan kanssa', 'Ohjaajan tuki opinnäytetyön eri vaiheissa:aiheen valinnassa', 'Ohjaajan tuki opinnäytetyön eri vaiheissa:tutkimuskysymysten tai kehittämistehtävän rajauksessa', 'Ohjaajan tuki opinnäytetyön eri vaiheissa:menetelmien valinnassa', 'Ohjaajan tuki opinnäytetyön eri vaiheissa:aineiston analyysissa', 'Ohjaajan tuki opinnäytetyön eri vaiheissa:johtopäätösten ja yhteenvedon tekemisessa', 'Ohjaajan tuki opinnäytetyön eri vaiheissa:raportoinnissa', 'Thesis grade', 'Opinnäytetyön tekemiseen kulunut aika ensimmäisistä aihekaavailuista työn valmistumiseen:kuukautta', 'Opinnäytetyön tekemisaika työviikkoina (40 h) aihekuvauksen tekemisestä työn valmistumiseen:työviikkoa', 'Oliko työ parityö?', 'Opiskeluala', 'Sukupuoli', 'Ikä']\n"
     ]
    }
   ],
   "source": [
    "import pandas as pd\n",
    "# 1) Aineiston lukeminen\n",
    "df = pd.read_excel(\n",
    "    r\"D:\\GitHub\\PythonDataAnalytics\\doc\\Opinnäytetyökysely.xlsx\",\n",
    "    sheet_name=\"Kysely\"\n",
    ")\n",
    "# 2) Print all column names to verify\n",
    "print(\"Columns available:\\n\", df.columns.to_list())\n"
   ]
  },
  {
   "cell_type": "markdown",
   "id": "6bd66c19",
   "metadata": {},
   "source": [
    "## Tehtävä 1: Korrelaatiot ja selitysasteet\n",
    "Laske korrelaatio ja R^2 seuraaville muuttujapareille:  \n",
    "1) Hankin itse aktiivisesti tietoa työni aiheesta & Tutkimusaiheeni kiinnosti minua  \n",
    "2) Sain riittävästi ohjausta & Opinnäytetyön tekemiseen kulunut aika ensimmäisistä aihekaavailuista työn valmistumiseen (kuukautta)\n"
   ]
  },
  {
   "cell_type": "code",
   "execution_count": 2,
   "id": "35952f60",
   "metadata": {},
   "outputs": [
    {
     "name": "stdout",
     "output_type": "stream",
     "text": [
      "1) Corr(Hankin itse aktiivisesti tietoa työni aiheesta, Tutkimusaiheeni kiinnosti minua) = 0.36, R^2 = 0.13\n",
      "2) Corr(Sain riittävästi ohjausta, Opinnäytetyön tekemiseen kulunut aika ensimmäisistä aihekaavailuista työn valmistumiseen:kuukautta) = -0.01, R^2 = 0.00\n"
     ]
    }
   ],
   "source": [
    "# Muuttujien nimet\n",
    "var1a = \"Hankin itse aktiivisesti tietoa työni aiheesta\"\n",
    "var1b = \"Tutkimusaiheeni kiinnosti minua\"\n",
    "var2a = \"Sain riittävästi ohjausta\"\n",
    "var2b = (\n",
    "    \"Opinnäytetyön tekemiseen kulunut aika ensimmäisistä \"\n",
    "    \"aihekaavailuista työn valmistumiseen:kuukautta\"\n",
    ")\n",
    "\n",
    "# Lasketaan korrelaatiot\n",
    "corr1 = df[var1a].corr(df[var1b])\n",
    "r2_1 = corr1 ** 2\n",
    "\n",
    "corr2 = df[var2a].corr(df[var2b])\n",
    "r2_2 = corr2 ** 2\n",
    "\n",
    "# Tulostus, kahden desimaalin tarkkuudella\n",
    "print(f\"1) Corr({var1a}, {var1b}) = {corr1:.2f}, R^2 = {r2_1:.2f}\")\n",
    "print(f\"2) Corr({var2a}, {var2b}) = {corr2:.2f}, R^2 = {r2_2:.2f}\")\n"
   ]
  },
  {
   "cell_type": "markdown",
   "id": "c509a181",
   "metadata": {},
   "source": [
    "## Tehtävä 2: Kokonaistyytyväisyyden luonti ja korrelaatio\n",
    "Luo uusi sarake “Kokonaistyytyväisyys ohjaukseen” seuraavien sarakkeiden keskiarvona:  \n",
    "- Ohjaajani panos tuki työtäni  \n",
    "- Saamani ohjaus oli asiantuntevaa  \n",
    "- Saamani ohjaus oli motivoivaa  \n",
    "- Työni ohjaaja vastasi nopeasti tiedusteluihini  \n",
    "- Ohjaustilanteet eivät tuntuneet minusta pelottavilta  \n",
    "- Ohjaajaani oli helppo lähestyä  \n",
    "- Luotin ohjaajani neuvoihin  \n",
    "\n",
    "Laske korrelaatio ja R^2 muuttujille  \n",
    "“Pystyin itse vaikuttamaan opinnäytetyöni ohjaajan valintaan” ja uusi “Kokonaistyytyväisyys ohjaukseen.”\n"
   ]
  },
  {
   "cell_type": "code",
   "execution_count": null,
   "id": "b5d38ba2",
   "metadata": {},
   "outputs": [],
   "source": [
    "# Listataan ohjaukseen liittyvät sarakkeet\n",
    "satisfaction_questions = [\n",
    "    \"Ohjaajani panos tuki työtäni\",\n",
    "    \"Saamani ohjaus oli asiantuntevaa\",\n",
    "    \"Saamani ohjaus oli motivoivaa\",\n",
    "    \"Työni ohjaaja vastasi nopeasti tiedusteluihini\",\n",
    "    \"Ohjaustilanteet eivät tuntuneet minusta pelottavilta\",\n",
    "    \"Ohjaajaani oli helppo lähestyä\",\n",
    "    \"Luotin ohjaajani neuvoihin\"\n",
    "]\n",
    "\n",
    "# Lasketaan riveittäin keskiarvo uuden sarakkeen alle\n",
    "df[\"Kokonaistyytyväisyys ohjaukseen\"] = df[satisfaction_questions].mean(axis=1)\n",
    "\n",
    "# Korrelaatio uuden sarakkeen ja ohjaajan valintaan vaikuttamisen välillä\n",
    "var_choice = \"Pystyin itse vaikuttamaan opinnäytetyöni ohjaajan valintaan\"\n",
    "var_sat = \"Kokonaistyytyväisyys ohjaukseen\"\n",
    "\n",
    "corr = df[var_choice].corr(df[var_sat])\n",
    "r2 = corr ** 2\n",
    "\n",
    "print(f\"Corr({var_choice}, {var_sat}) = {corr:.2f}, R^2 = {r2:.2f}\")\n"
   ]
  },
  {
   "cell_type": "markdown",
   "id": "dc5a108b",
   "metadata": {},
   "source": [
    "## Tehtävä 3: Korrelaatiomatriisi innokkuudesta ja ohjauksen tuesta\n",
    "Valitse seuraavat sarakkeet uuteen DataFrameen ja laske niiden keskinäinen korrelaatiomatriisi yhdellä komennolla:  \n",
    "- Olin innostunut opinnäytetyötä tehdessäni  \n",
    "- Ohjaajan tuki opinnäytetyön eri vaiheissa:aiheen valinnassa  \n",
    "- Ohjaajan tuki opinnäytetyön eri vaiheissa:tutkimuskysymysten tai kehittämistehtävän rajauksessa  \n",
    "- Ohjaajan tuki opinnäytetyön eri vaiheissa:menetelmien valinnassa  \n",
    "- Ohjaajan tuki opinnäytetyön eri vaiheissa:aineiston analyysissa  \n",
    "- Ohjaajan tuki opinnäytetyön eri vaiheissa:johtopäätösten ja yhteenvedon tekemisessa  \n",
    "- Ohjaajan tuki opinnäytetyön eri vaiheissa:raportoinnissa\n"
   ]
  },
  {
   "cell_type": "code",
   "execution_count": null,
   "id": "ae980fdb",
   "metadata": {},
   "outputs": [],
   "source": [
    "columns_of_interest = [\n",
    "    \"Olin innostunut opinnäytetyötä tehdessäni\",\n",
    "    \"Ohjaajan tuki opinnäytetyön eri vaiheissa:aiheen valinnassa\",\n",
    "    \"Ohjaajan tuki opinnäytetyön eri vaiheissa:tutkimuskysymysten tai kehittämistehtävän rajauksessa\",\n",
    "    \"Ohjaajan tuki opinnäytetyön eri vaiheissa:menetelmien valinnassa\",\n",
    "    \"Ohjaajan tuki opinnäytetyön eri vaiheissa:aineiston analyysissa\",\n",
    "    \"Ohjaajan tuki opinnäytetyön eri vaiheissa:johtopäätösten ja yhteenvedon tekemisessa\",\n",
    "    \"Ohjaajan tuki opinnäytetyön eri vaiheissa:raportoinnissa\"\n",
    "]\n",
    "\n",
    "df_sub = df[columns_of_interest]\n",
    "corr_matrix = df_sub.corr()\n",
    "\n",
    "# Yksi komento tulostaa koko matriisin\n",
    "corr_matrix\n"
   ]
  },
  {
   "cell_type": "markdown",
   "id": "16916e47",
   "metadata": {},
   "source": [
    "### Yhteenveto  \n",
    "Task 1: Korrelaatiot ja selitysasteet (2 paria)  \n",
    "Task 2: Uusi kokonaistyytyväisyyden sarake ja korrelaatiolasku  \n",
    "Task 3: Monimuuttujainen korrelaatiomatriisi innokkuudesta ja ohjauksen tuesta\n"
   ]
  }
 ],
 "metadata": {
  "kernelspec": {
   "display_name": "env",
   "language": "python",
   "name": "python3"
  },
  "language_info": {
   "codemirror_mode": {
    "name": "ipython",
    "version": 3
   },
   "file_extension": ".py",
   "mimetype": "text/x-python",
   "name": "python",
   "nbconvert_exporter": "python",
   "pygments_lexer": "ipython3",
   "version": "3.12.10"
  }
 },
 "nbformat": 4,
 "nbformat_minor": 5
}
