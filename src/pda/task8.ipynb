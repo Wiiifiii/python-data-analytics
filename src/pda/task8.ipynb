{
 "cells": [
  {
   "cell_type": "markdown",
   "id": "5d1046ca",
   "metadata": {},
   "source": [
    "# Python ja data-analytiikka\n",
    "# Palautettava tehtävä 8"
   ]
  }
 ],
 "metadata": {
  "language_info": {
   "name": "python"
  }
 },
 "nbformat": 4,
 "nbformat_minor": 5
}
