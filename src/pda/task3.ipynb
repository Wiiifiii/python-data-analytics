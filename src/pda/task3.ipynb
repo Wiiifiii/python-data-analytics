{
 "cells": [
  {
   "cell_type": "markdown",
   "id": "b9d1d5be",
   "metadata": {},
   "source": [
    "# Tehtävä 3: Ristiintaulukoinnit ja dummy-muuttuja\n",
    "\n",
    "Tässä notebookissa:\n",
    "1. Luetaan sama Excel‐tiedosto (`Opinnäytetyökysely.xlsx`) pandas‐DataFrameen, sheet “Kysely”.\n",
    "2. Luodaan ristiintaulukointi **Opiskeluala vs. Sukupuoli**.\n",
    "3. Lasketaan sarake‐normalisoitu prosenttijakauma – miesten ja naisten suhteellinen jakautuminen eri opiskelualoille (sisältää marginaalit).\n",
    "4. Lasketaan rivinormalisoitu prosenttijakauma – sukupuolijakauma aloittain, ja lisätään kokonaismäärät (“Total count”) rivinä.\n",
    "5. Luodaan dummy‐muuttujan **Oliko työ parityö?** taulukko, jossa on sekä määrät että prosenttiosuudet."
   ]
  },
  {
   "cell_type": "markdown",
   "id": "f24699c6",
   "metadata": {},
   "source": [
    "## 1) Kirjastojen tuonti ja Excel‐tiedoston lukeminen\n",
    "\n",
    "Tuodaan pandas ja pda.ace_tools. Luetaan sheet “Kysely” DataFrameen.  \n",
    "Varmista, että `Opinnäytetyökysely.xlsx` on saman hakemiston juuressa tai päivitä polku."
   ]
  },
  {
   "cell_type": "code",
   "execution_count": 16,
   "id": "25ae0dbb",
   "metadata": {},
   "outputs": [
    {
     "data": {
      "text/plain": [
       "(242, 42)"
      ]
     },
     "execution_count": 16,
     "metadata": {},
     "output_type": "execute_result"
    }
   ],
   "source": [
    "import pandas as pd\n",
    "import ace_tools as tools\n",
    "\n",
    "# Vaihda tarvittaessa polku, jos Excel ei ole tässä kansiossa\n",
    "file_path = r\"D:\\GitHub\\PythonDataAnalytics\\doc\\Opinnäytetyökysely.xlsx\"\n",
    "df = pd.read_excel(file_path, sheet_name=\"Kysely\", engine=\"openpyxl\")\n",
    "\n",
    "# Tarkistetaan, että DataFrame on ladattu oikein:\n",
    "df.shape  # (rivit, sarakkeet)"
   ]
  },
  {
   "cell_type": "markdown",
   "id": "0f93d1db",
   "metadata": {},
   "source": [
    "## 2) Ristiintaulukointi 1: Opiskeluala vs. Sukupuoli\n",
    "\n",
    "Lasketaan crosstab, jossa rivinä **Opiskeluala** ja sarakkeina **Sukupuoli**, näyttäen absoluuttiset lukumäärät."
   ]
  },
  {
   "cell_type": "code",
   "execution_count": 17,
   "id": "02741d97",
   "metadata": {},
   "outputs": [
    {
     "name": "stdout",
     "output_type": "stream",
     "text": [
      "\n",
      "=== Ristiintaulukointi 1: Opiskeluala vs. Sukupuoli ===\n",
      "Sukupuoli    Mies  Nainen\n",
      "Opiskeluala              \n",
      "Kulttuuri      14     110\n",
      "Liiketalous    20      44\n",
      "Tekniikka      52       2\n",
      "\n"
     ]
    }
   ],
   "source": [
    "ct1 = pd.crosstab(df[\"Opiskeluala\"], df[\"Sukupuoli\"])\n",
    "tools.display_dataframe_to_user(\"Ristiintaulukointi 1: Opiskeluala vs. Sukupuoli\", ct1)"
   ]
  },
  {
   "cell_type": "markdown",
   "id": "8a4e79f2",
   "metadata": {},
   "source": [
    "## 3) Ristiintaulukointi 2: Sarake‐normalisoitu prosenttijakauma\n",
    "\n",
    "Lasketaan sama Opiskeluala vs. Sukupuoli, mutta normalisoidaan sarakkeittain (`normalize=\"columns\"`) ja muunnetaan prosenttiluvuiksi.  \n",
    "Sisältää marginaalirivin (“All”)."
   ]
  },
  {
   "cell_type": "code",
   "execution_count": 18,
   "id": "90d594ea",
   "metadata": {},
   "outputs": [
    {
     "name": "stdout",
     "output_type": "stream",
     "text": [
      "\n",
      "=== Ristiintaulukointi 2: Miesten ja naisten suhteellinen jakautuminen (%) ===\n",
      "Sukupuoli     Mies  Nainen    All\n",
      "Opiskeluala                      \n",
      "Kulttuuri    16.28   70.51  51.24\n",
      "Liiketalous  23.26   28.21  26.45\n",
      "Tekniikka    60.47    1.28  22.31\n",
      "\n"
     ]
    }
   ],
   "source": [
    "ct2 = (\n",
    "    pd.crosstab(\n",
    "        df[\"Opiskeluala\"],\n",
    "        df[\"Sukupuoli\"],\n",
    "        margins=True,\n",
    "        normalize=\"columns\"\n",
    "    )\n",
    "    .mul(100)\n",
    "    .round(2)\n",
    ")\n",
    "tools.display_dataframe_to_user(\n",
    "    \"Ristiintaulukointi 2: Miesten ja naisten suhteellinen jakautuminen (%)\",\n",
    "    ct2\n",
    ")"
   ]
  },
  {
   "cell_type": "markdown",
   "id": "17201918",
   "metadata": {},
   "source": [
    "## 4) Ristiintaulukointi 3: Rivi‐normalisoitu prosenttijakauma ja kokonaismäärät\n",
    "\n",
    "Lasketaan Opiskeluala vs. Sukupuoli jälleen, mutta normalisoidaan rivittäin (`normalize=\"index\"`) prosentteihin.  \n",
    "Lisätään uusi rivi “Total count”, jossa on kunkin sukupuolen absoluuttinen määrä."
   ]
  },
  {
   "cell_type": "code",
   "execution_count": 19,
   "id": "8b1e74c7",
   "metadata": {},
   "outputs": [
    {
     "name": "stdout",
     "output_type": "stream",
     "text": [
      "\n",
      "=== Ristiintaulukointi 3: Sukupuolijakauma aloittain (%) ja kokonaismäärä ===\n",
      "Sukupuoli     Mies  Nainen\n",
      "Opiskeluala               \n",
      "Kulttuuri    11.29   88.71\n",
      "Liiketalous  31.25   68.75\n",
      "Tekniikka    96.30    3.70\n",
      "Total count  86.00  156.00\n",
      "\n"
     ]
    }
   ],
   "source": [
    "ct3 = pd.crosstab(df[\"Opiskeluala\"], df[\"Sukupuoli\"], normalize=\"index\").mul(100).round(2)\n",
    "totals = df[\"Sukupuoli\"].value_counts()\n",
    "ct3.loc[\"Total count\"] = totals\n",
    "tools.display_dataframe_to_user(\n",
    "    \"Ristiintaulukointi 3: Sukupuolijakauma aloittain (%) ja kokonaismäärä\",\n",
    "    ct3\n",
    ")"
   ]
  },
  {
   "cell_type": "markdown",
   "id": "6928fd4c",
   "metadata": {},
   "source": [
    "## 5) Dummy‐muuttuja: “Oliko työ parityö?”\n",
    "\n",
    "Sarakkeen **Oliko työ parityö?** arvot ovat 1 = Kyllä ja 0 = Ei.  \n",
    "Lasketaan ensin lukumäärät, sitten prosenttiosuudet, ja kootaan ne kahden sarakkeen DataFrameen."
   ]
  },
  {
   "cell_type": "code",
   "execution_count": 20,
   "id": "bf7bb826",
   "metadata": {},
   "outputs": [
    {
     "name": "stdout",
     "output_type": "stream",
     "text": [
      "\n",
      "=== Dummy‐muuttuja: Oliko työ parityö? ===\n",
      "                    Count  Percentage\n",
      "Oliko työ parityö?                   \n",
      "Ei                    224       92.56\n",
      "Kyllä                  18        7.44\n",
      "\n"
     ]
    }
   ],
   "source": [
    "dummy_counts = (\n",
    "    df[\"Oliko työ parityö?\"]\n",
    "    .value_counts()\n",
    "    .rename(index={1: \"Kyllä\", 0: \"Ei\"})\n",
    ")\n",
    "dummy_prop = (dummy_counts / dummy_counts.sum() * 100).round(2)\n",
    "dummy_table = pd.DataFrame({\"Count\": dummy_counts, \"Percentage\": dummy_prop})\n",
    "\n",
    "tools.display_dataframe_to_user(\"Dummy‐muuttuja: Oliko työ parityö?\", dummy_table)"
   ]
  },
  {
   "cell_type": "markdown",
   "id": "b64bd1e8",
   "metadata": {},
   "source": [
    "# Yhteenveto\n",
    "\n",
    "Jupyter‐notebookissa:\n",
    "- Tuodaan `Opinnäytetyökysely.xlsx` pandas‐DataFrameksi (sheet: “Kysely”).\n",
    "- Luodaan ristiintaulukointi **Opiskeluala vs. Sukupuoli** (absoluuttiset lukumäärät).\n",
    "- Lasketaan sarake‐normalisoitu prosenttijakauma – miesten ja naisten suhteellinen jakautuminen eri opiskelualoille (sisältää marginaalit).\n",
    "- Lasketaan rivinormalisoitu prosenttijakauma – sukupuolijakauma aloittain prosentteina, ja lisätään “Total count” ‐rivi kokonaissummien näyttämiseksi.\n",
    "- Luodaan dummy‐muuttujan **Oliko työ parityö?** taulukko, jossa esitetään sekä määrät että prosenttiosuudet."
   ]
  }
 ],
 "metadata": {
  "kernelspec": {
   "display_name": "env",
   "language": "python",
   "name": "python3"
  },
  "language_info": {
   "codemirror_mode": {
    "name": "ipython",
    "version": 3
   },
   "file_extension": ".py",
   "mimetype": "text/x-python",
   "name": "python",
   "nbconvert_exporter": "python",
   "pygments_lexer": "ipython3",
   "version": "3.12.10"
  }
 },
 "nbformat": 4,
 "nbformat_minor": 5
}
