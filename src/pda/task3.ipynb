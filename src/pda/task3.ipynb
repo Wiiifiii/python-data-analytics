{
 "cells": [
  {
   "cell_type": "markdown",
   "id": "c82c4c36",
   "metadata": {},
   "source": [
    "# Python ja data-analytiikka\n",
    "# Palautettava tehtävä 3"
   ]
  },
  {
   "cell_type": "code",
   "execution_count": 8,
   "id": "c067585d",
   "metadata": {},
   "outputs": [
    {
     "name": "stdout",
     "output_type": "stream",
     "text": [
      "<class 'pandas.core.frame.DataFrame'>\n",
      "RangeIndex: 242 entries, 0 to 241\n",
      "Data columns (total 42 columns):\n",
      " #   Column                                                                                                  Non-Null Count  Dtype  \n",
      "---  ------                                                                                                  --------------  -----  \n",
      " 0   Aikaleima                                                                                               242 non-null    object \n",
      " 1   Kuinka löysit aiheesi?                                                                                  242 non-null    object \n",
      " 2   Opinnäytetyöni oli hankkeistettu                                                                        242 non-null    object \n",
      " 3   Oliko työsi teoreettinen vai käytännöllinen? Teoreettinen (1) - Käytännöllinen (5)                      242 non-null    int64  \n",
      " 4   Pystyin itse vaikuttamaan aiheen valintaan                                                              242 non-null    int64  \n",
      " 5   Olin innostunut opinnäytetyötä tehdessäni                                                               242 non-null    int64  \n",
      " 6   Pystyin itse vaikuttamaan opinnäytetyöni ohjaajan valintaan                                             242 non-null    int64  \n",
      " 7   Sain riittävästi ohjausta                                                                               242 non-null    int64  \n",
      " 8   Hankin itse aktiivisesti tietoa työni aiheesta                                                          242 non-null    int64  \n",
      " 9   Tutkimusaiheeni kiinnosti minua                                                                         242 non-null    int64  \n",
      " 10  Sain muilta opiskelijoilta tukea työni tekemisessä                                                      242 non-null    int64  \n",
      " 11  Työn toimeksiantaja oli kiinnostunut työstäni                                                           154 non-null    float64\n",
      " 12  Työn toimeksiantaja oli kiinnostunut ohjaamaan työtäni                                                  154 non-null    float64\n",
      " 13  Ohjaajani panos tuki työtäni                                                                            242 non-null    int64  \n",
      " 14  Saamani ohjaus oli asiantuntevaa                                                                        242 non-null    int64  \n",
      " 15  Valmistauduin ohjauspalavereihin                                                                        242 non-null    int64  \n",
      " 16  Saamani ohjaus oli motivoivaa                                                                           242 non-null    int64  \n",
      " 17  Työni ohjaaja vastasi nopeasti tiedusteluihini                                                          242 non-null    int64  \n",
      " 18  Ohjaustilanteet eivät tuntuneet minusta pelottavilta                                                    242 non-null    int64  \n",
      " 19  Ohjaajaani oli helppo lähestyä                                                                          242 non-null    int64  \n",
      " 20  Luotin ohjaajani neuvoihin                                                                              242 non-null    int64  \n",
      " 21  Eri ohjaustapojen käyttäminen ja niiden hyödyllisyys: Seminaarit                                        242 non-null    int64  \n",
      " 22  Eri ohjaustapojen käyttäminen ja niiden hyödyllisyys: Henkilökohtaiset tapaamiset ohjaajan kanssa       242 non-null    int64  \n",
      " 23  Eri ohjaustapojen käyttäminen ja niiden hyödyllisyys: Sähköiset yhteydet ohjaajan kanssa                242 non-null    int64  \n",
      " 24  Eri ohjaustapojen käyttäminen ja niiden hyödyllisyys: Keskustelut toimeksiantajan kanssa                242 non-null    int64  \n",
      " 25  Hyödyllisyys: Seminaarit                                                                                214 non-null    float64\n",
      " 26  Hyödyllisyys:Henkilökohtaiset tapaamiset ohjaajan kanssa                                                220 non-null    float64\n",
      " 27  Hyödyllisyys: Sähköiset yhteydet ohjaajan kanssa                                                        226 non-null    float64\n",
      " 28  Hyödyllisyys: Keskustelut toimeksiantajan kanssa                                                        180 non-null    float64\n",
      " 29  Ohjaajan tuki opinnäytetyön eri vaiheissa:aiheen valinnassa                                             242 non-null    int64  \n",
      " 30  Ohjaajan tuki opinnäytetyön eri vaiheissa:tutkimuskysymysten tai kehittämistehtävän rajauksessa         242 non-null    int64  \n",
      " 31  Ohjaajan tuki opinnäytetyön eri vaiheissa:menetelmien valinnassa                                        242 non-null    int64  \n",
      " 32  Ohjaajan tuki opinnäytetyön eri vaiheissa:aineiston analyysissa                                         242 non-null    int64  \n",
      " 33  Ohjaajan tuki opinnäytetyön eri vaiheissa:johtopäätösten ja yhteenvedon tekemisessa                     242 non-null    int64  \n",
      " 34  Ohjaajan tuki opinnäytetyön eri vaiheissa:raportoinnissa                                                242 non-null    int64  \n",
      " 35  Thesis grade                                                                                            78 non-null     float64\n",
      " 36  Opinnäytetyön tekemiseen kulunut aika ensimmäisistä aihekaavailuista työn valmistumiseen:kuukautta      234 non-null    float64\n",
      " 37  Opinnäytetyön tekemisaika työviikkoina (40 h) aihekuvauksen tekemisestä työn valmistumiseen:työviikkoa  204 non-null    float64\n",
      " 38  Oliko työ parityö?                                                                                      242 non-null    int64  \n",
      " 39  Opiskeluala                                                                                             242 non-null    object \n",
      " 40  Sukupuoli                                                                                               242 non-null    object \n",
      " 41  Ikä                                                                                                     240 non-null    float64\n",
      "dtypes: float64(10), int64(27), object(5)\n",
      "memory usage: 79.5+ KB\n"
     ]
    }
   ],
   "source": [
    "import pandas as pd\n",
    "# 1) Aineiston lukeminen\n",
    "df = pd.read_excel(r\"D:\\GitHub\\PythonDataAnalytics\\doc\\Opinnäytetyökysely.xlsx\", \n",
    "                   sheet_name=\"Kysely\")\n",
    "df.info()  # Näyttää sarakkeet ja rivimäärän"
   ]
  },
  {
   "cell_type": "markdown",
   "id": "434fea4a",
   "metadata": {},
   "source": [
    "## Ristiintaulukointi 1: Opiskeluala vs. Sukupuoli"
   ]
  },
  {
   "cell_type": "code",
   "execution_count": 5,
   "id": "fb3c5c3c",
   "metadata": {},
   "outputs": [
    {
     "data": {
      "text/html": [
       "<div>\n",
       "<style scoped>\n",
       "    .dataframe tbody tr th:only-of-type {\n",
       "        vertical-align: middle;\n",
       "    }\n",
       "\n",
       "    .dataframe tbody tr th {\n",
       "        vertical-align: top;\n",
       "    }\n",
       "\n",
       "    .dataframe thead th {\n",
       "        text-align: right;\n",
       "    }\n",
       "</style>\n",
       "<table border=\"1\" class=\"dataframe\">\n",
       "  <thead>\n",
       "    <tr style=\"text-align: right;\">\n",
       "      <th>Sukupuoli</th>\n",
       "      <th>Mies</th>\n",
       "      <th>Nainen</th>\n",
       "    </tr>\n",
       "    <tr>\n",
       "      <th>Opiskeluala</th>\n",
       "      <th></th>\n",
       "      <th></th>\n",
       "    </tr>\n",
       "  </thead>\n",
       "  <tbody>\n",
       "    <tr>\n",
       "      <th>Kulttuuri</th>\n",
       "      <td>14</td>\n",
       "      <td>110</td>\n",
       "    </tr>\n",
       "    <tr>\n",
       "      <th>Liiketalous</th>\n",
       "      <td>20</td>\n",
       "      <td>44</td>\n",
       "    </tr>\n",
       "    <tr>\n",
       "      <th>Tekniikka</th>\n",
       "      <td>52</td>\n",
       "      <td>2</td>\n",
       "    </tr>\n",
       "  </tbody>\n",
       "</table>\n",
       "</div>"
      ],
      "text/plain": [
       "Sukupuoli    Mies  Nainen\n",
       "Opiskeluala              \n",
       "Kulttuuri      14     110\n",
       "Liiketalous    20      44\n",
       "Tekniikka      52       2"
      ]
     },
     "execution_count": 5,
     "metadata": {},
     "output_type": "execute_result"
    }
   ],
   "source": [
    "ct1 = pd.crosstab(df['Opiskeluala'], df['Sukupuoli'])\n",
    "ct1"
   ]
  },
  {
   "cell_type": "markdown",
   "id": "71ade074",
   "metadata": {},
   "source": [
    "## Ristiintaulukointi 2: Miesten ja naisten suhteellinen jakautuminen (%)"
   ]
  },
  {
   "cell_type": "code",
   "execution_count": 4,
   "id": "07d9ea99",
   "metadata": {},
   "outputs": [
    {
     "data": {
      "text/html": [
       "<div>\n",
       "<style scoped>\n",
       "    .dataframe tbody tr th:only-of-type {\n",
       "        vertical-align: middle;\n",
       "    }\n",
       "\n",
       "    .dataframe tbody tr th {\n",
       "        vertical-align: top;\n",
       "    }\n",
       "\n",
       "    .dataframe thead th {\n",
       "        text-align: right;\n",
       "    }\n",
       "</style>\n",
       "<table border=\"1\" class=\"dataframe\">\n",
       "  <thead>\n",
       "    <tr style=\"text-align: right;\">\n",
       "      <th>Sukupuoli</th>\n",
       "      <th>Mies</th>\n",
       "      <th>Nainen</th>\n",
       "      <th>All</th>\n",
       "    </tr>\n",
       "    <tr>\n",
       "      <th>Opiskeluala</th>\n",
       "      <th></th>\n",
       "      <th></th>\n",
       "      <th></th>\n",
       "    </tr>\n",
       "  </thead>\n",
       "  <tbody>\n",
       "    <tr>\n",
       "      <th>Kulttuuri</th>\n",
       "      <td>16.28</td>\n",
       "      <td>70.51</td>\n",
       "      <td>51.24</td>\n",
       "    </tr>\n",
       "    <tr>\n",
       "      <th>Liiketalous</th>\n",
       "      <td>23.26</td>\n",
       "      <td>28.21</td>\n",
       "      <td>26.45</td>\n",
       "    </tr>\n",
       "    <tr>\n",
       "      <th>Tekniikka</th>\n",
       "      <td>60.47</td>\n",
       "      <td>1.28</td>\n",
       "      <td>22.31</td>\n",
       "    </tr>\n",
       "  </tbody>\n",
       "</table>\n",
       "</div>"
      ],
      "text/plain": [
       "Sukupuoli     Mies  Nainen    All\n",
       "Opiskeluala                      \n",
       "Kulttuuri    16.28   70.51  51.24\n",
       "Liiketalous  23.26   28.21  26.45\n",
       "Tekniikka    60.47    1.28  22.31"
      ]
     },
     "execution_count": 4,
     "metadata": {},
     "output_type": "execute_result"
    }
   ],
   "source": [
    "ct2 = pd.crosstab(\n",
    "    df['Opiskeluala'], \n",
    "    df['Sukupuoli'], \n",
    "    margins=True, \n",
    "    normalize='columns'\n",
    ").mul(100).round(2)\n",
    "ct2\n"
   ]
  },
  {
   "cell_type": "markdown",
   "id": "97fca29d",
   "metadata": {},
   "source": [
    "## Ristiintaulukointi 3: Sukupuolijakauma aloittain (%) ja kokonaismäärä"
   ]
  },
  {
   "cell_type": "code",
   "execution_count": null,
   "id": "e2335fd1",
   "metadata": {},
   "outputs": [
    {
     "data": {
      "text/html": [
       "<div>\n",
       "<style scoped>\n",
       "    .dataframe tbody tr th:only-of-type {\n",
       "        vertical-align: middle;\n",
       "    }\n",
       "\n",
       "    .dataframe tbody tr th {\n",
       "        vertical-align: top;\n",
       "    }\n",
       "\n",
       "    .dataframe thead th {\n",
       "        text-align: right;\n",
       "    }\n",
       "</style>\n",
       "<table border=\"1\" class=\"dataframe\">\n",
       "  <thead>\n",
       "    <tr style=\"text-align: right;\">\n",
       "      <th>Sukupuoli</th>\n",
       "      <th>Mies</th>\n",
       "      <th>Nainen</th>\n",
       "    </tr>\n",
       "    <tr>\n",
       "      <th>Opiskeluala</th>\n",
       "      <th></th>\n",
       "      <th></th>\n",
       "    </tr>\n",
       "  </thead>\n",
       "  <tbody>\n",
       "    <tr>\n",
       "      <th>Kulttuuri</th>\n",
       "      <td>16.28</td>\n",
       "      <td>70.51</td>\n",
       "    </tr>\n",
       "    <tr>\n",
       "      <th>Liiketalous</th>\n",
       "      <td>23.26</td>\n",
       "      <td>28.21</td>\n",
       "    </tr>\n",
       "    <tr>\n",
       "      <th>Tekniikka</th>\n",
       "      <td>60.47</td>\n",
       "      <td>1.28</td>\n",
       "    </tr>\n",
       "    <tr>\n",
       "      <th>Total count</th>\n",
       "      <td>86.00</td>\n",
       "      <td>156.00</td>\n",
       "    </tr>\n",
       "  </tbody>\n",
       "</table>\n",
       "</div>"
      ],
      "text/plain": [
       "Sukupuoli     Mies  Nainen\n",
       "Opiskeluala               \n",
       "Kulttuuri    16.28   70.51\n",
       "Liiketalous  23.26   28.21\n",
       "Tekniikka    60.47    1.28\n",
       "Total count  86.00  156.00"
      ]
     },
     "execution_count": 3,
     "metadata": {},
     "output_type": "execute_result"
    }
   ],
   "source": [
    "# Prosenttijakauma riveittäin\n",
    "import pandas as pd\n",
    "\n",
    "df = pd.read_excel(\n",
    "    r\"D:\\GitHub\\PythonDataAnalytics\\doc\\Opinnäytetyökysely.xlsx\",\n",
    "    sheet_name=\"Kysely\"\n",
    ")\n",
    "ct_perc = pd.crosstab(\n",
    "    df['Opiskeluala'],\n",
    "    df['Sukupuoli'],\n",
    "    normalize='columns'\n",
    ").mul(100).round(2)\n",
    "\n",
    "gender_totals = df['Sukupuoli'].value_counts()\n",
    "\n",
    "ct2 = ct_perc.copy()\n",
    "ct2.loc['Total count'] = gender_totals\n",
    "ct2\n",
    "\n"
   ]
  },
  {
   "cell_type": "markdown",
   "id": "62312053",
   "metadata": {},
   "source": [
    "## Dummy-muuttuja: Oliko työ parityö?"
   ]
  },
  {
   "cell_type": "code",
   "execution_count": 2,
   "id": "f200d3a8",
   "metadata": {},
   "outputs": [
    {
     "data": {
      "text/html": [
       "<div>\n",
       "<style scoped>\n",
       "    .dataframe tbody tr th:only-of-type {\n",
       "        vertical-align: middle;\n",
       "    }\n",
       "\n",
       "    .dataframe tbody tr th {\n",
       "        vertical-align: top;\n",
       "    }\n",
       "\n",
       "    .dataframe thead th {\n",
       "        text-align: right;\n",
       "    }\n",
       "</style>\n",
       "<table border=\"1\" class=\"dataframe\">\n",
       "  <thead>\n",
       "    <tr style=\"text-align: right;\">\n",
       "      <th></th>\n",
       "      <th>Count</th>\n",
       "      <th>Percentage</th>\n",
       "    </tr>\n",
       "    <tr>\n",
       "      <th>Oliko työ parityö?</th>\n",
       "      <th></th>\n",
       "      <th></th>\n",
       "    </tr>\n",
       "  </thead>\n",
       "  <tbody>\n",
       "    <tr>\n",
       "      <th>Ei</th>\n",
       "      <td>224</td>\n",
       "      <td>92.56</td>\n",
       "    </tr>\n",
       "    <tr>\n",
       "      <th>Kyllä</th>\n",
       "      <td>18</td>\n",
       "      <td>7.44</td>\n",
       "    </tr>\n",
       "  </tbody>\n",
       "</table>\n",
       "</div>"
      ],
      "text/plain": [
       "                    Count  Percentage\n",
       "Oliko työ parityö?                   \n",
       "Ei                    224       92.56\n",
       "Kyllä                  18        7.44"
      ]
     },
     "execution_count": 2,
     "metadata": {},
     "output_type": "execute_result"
    }
   ],
   "source": [
    "dummy_counts = (\n",
    "    df['Oliko työ parityö?']\n",
    "    .map({1: 'Kyllä', 0: 'Ei'})\n",
    "    .value_counts()\n",
    ")\n",
    "dummy_prop = (dummy_counts / dummy_counts.sum() * 100).round(2)\n",
    "\n",
    "dummy_table = pd.DataFrame({\n",
    "    'Count': dummy_counts,\n",
    "    'Percentage': dummy_prop\n",
    "})\n",
    "dummy_table\n"
   ]
  },
  {
   "cell_type": "markdown",
   "id": "e132569d",
   "metadata": {},
   "source": [
    "## Yhteenveto\n",
    "Tehtävässä tarkasteltiin opiskelualan ja sukupuolen välistä jakaumaa eri näkökulmista (absoluuttiset ja prosenttijakaumat) sekä tarkasteltiin parityön esiintyvyyttä."
   ]
  }
 ],
 "metadata": {
  "kernelspec": {
   "display_name": "env",
   "language": "python",
   "name": "python3"
  },
  "language_info": {
   "codemirror_mode": {
    "name": "ipython",
    "version": 3
   },
   "file_extension": ".py",
   "mimetype": "text/x-python",
   "name": "python",
   "nbconvert_exporter": "python",
   "pygments_lexer": "ipython3",
   "version": "3.12.10"
  }
 },
 "nbformat": 4,
 "nbformat_minor": 5
}
