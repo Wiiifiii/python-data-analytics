{
 "cells": [
  {
   "cell_type": "markdown",
   "id": "2f380697",
   "metadata": {},
   "source": [
    "# Tehtävä 4: Kuvaileva tilastotiede ja pivot-taulukot\n",
    "\n",
    "Tässä notebookissa:\n",
    "1. Luetaan sama Excel-tiedosto (`Opinnäytetyökysely.xlsx`) pandas‐DataFrameen, sheet “Kysely”.\n",
    "2. Lasketaan kuvailevat tunnusluvut (“Opinnäytetyön tekemiseen kulunut aika…”).\n",
    "3. Luodaan pivot-taulukko keskiarvoraporteista kolmesta ohjausta mittaavasta kysymyksestä (“Sain riittävästi ohjausta”, “Ohjaajaani oli helppo lähestyä”, “Luotin ohjaajani neuvoihin”) kenttä‐tason (Opiskeluala) mukaan."
   ]
  },
  {
   "cell_type": "markdown",
   "id": "058260f9",
   "metadata": {},
   "source": [
    "## 1) Kirjastojen tuonti ja Excel‐datan lataus\n",
    "\n",
    "Tuodaan pandas ja luetaan sheet “Kysely” DataFrameen.  \n",
    "Varmista, että `Opinnäytetyökysely.xlsx` on samassa kansiossa kuin tämä notebook (tai päivitä polku)."
   ]
  },
  {
   "cell_type": "code",
   "execution_count": 10,
   "id": "de92fc99",
   "metadata": {},
   "outputs": [
    {
     "data": {
      "text/plain": [
       "(242, 42)"
      ]
     },
     "execution_count": 10,
     "metadata": {},
     "output_type": "execute_result"
    }
   ],
   "source": [
    "import pandas as pd\n",
    "\n",
    "def load_data(path: str) -> pd.DataFrame:\n",
    "    \"\"\"\n",
    "    Lukee kyselydatan annetuista Excel‐tiedostosta.\n",
    "    \"\"\"\n",
    "    return pd.read_excel(path, sheet_name=\"Kysely\", engine=\"openpyxl\")\n",
    "\n",
    "# Ladataan data\n",
    "file_path = r\"D:\\GitHub\\PythonDataAnalytics\\doc\\Opinnäytetyökysely.xlsx\"\n",
    "df = load_data(file_path)\n",
    "\n",
    "# Tarkistetaan, että DataFrame latautui oikein (rivit × sarakkeet)\n",
    "df.shape"
   ]
  },
  {
   "cell_type": "markdown",
   "id": "843d25c0",
   "metadata": {},
   "source": [
    "## 2) Kuvailevat tunnusluvut: “Opinnäytetyön tekemiseen kulunut aika…:kuukautta”\n",
    "\n",
    "Lasketaan kuvailevat tunnusluvut (lukumäärä, keskiarvo, keskihajonta, minimi, kvartiilit, maksimi) \n",
    "sarakkeesta **“Opinnäytetyön tekemiseen kulunut aika ensimmäisistä aihekaavailuista työn valmistumiseen:kuukautta”**.\n",
    "Poistetaan rivit, joilla arvo puuttuu."
   ]
  },
  {
   "cell_type": "code",
   "execution_count": 11,
   "id": "44597256",
   "metadata": {},
   "outputs": [
    {
     "data": {
      "text/html": [
       "<div>\n",
       "<style scoped>\n",
       "    .dataframe tbody tr th:only-of-type {\n",
       "        vertical-align: middle;\n",
       "    }\n",
       "\n",
       "    .dataframe tbody tr th {\n",
       "        vertical-align: top;\n",
       "    }\n",
       "\n",
       "    .dataframe thead th {\n",
       "        text-align: right;\n",
       "    }\n",
       "</style>\n",
       "<table border=\"1\" class=\"dataframe\">\n",
       "  <thead>\n",
       "    <tr style=\"text-align: right;\">\n",
       "      <th></th>\n",
       "      <th>Arvo</th>\n",
       "    </tr>\n",
       "  </thead>\n",
       "  <tbody>\n",
       "    <tr>\n",
       "      <th>Lukumäärä</th>\n",
       "      <td>234.000000</td>\n",
       "    </tr>\n",
       "    <tr>\n",
       "      <th>Keskiarvo</th>\n",
       "      <td>8.918803</td>\n",
       "    </tr>\n",
       "    <tr>\n",
       "      <th>Keskihajonta</th>\n",
       "      <td>5.516638</td>\n",
       "    </tr>\n",
       "    <tr>\n",
       "      <th>Minimi</th>\n",
       "      <td>2.000000</td>\n",
       "    </tr>\n",
       "    <tr>\n",
       "      <th>25 % kvartiili</th>\n",
       "      <td>5.000000</td>\n",
       "    </tr>\n",
       "    <tr>\n",
       "      <th>Mediaani</th>\n",
       "      <td>8.000000</td>\n",
       "    </tr>\n",
       "    <tr>\n",
       "      <th>75 % kvartiili</th>\n",
       "      <td>12.000000</td>\n",
       "    </tr>\n",
       "    <tr>\n",
       "      <th>Maksimi</th>\n",
       "      <td>30.000000</td>\n",
       "    </tr>\n",
       "  </tbody>\n",
       "</table>\n",
       "</div>"
      ],
      "text/plain": [
       "                      Arvo\n",
       "Lukumäärä       234.000000\n",
       "Keskiarvo         8.918803\n",
       "Keskihajonta      5.516638\n",
       "Minimi            2.000000\n",
       "25 % kvartiili    5.000000\n",
       "Mediaani          8.000000\n",
       "75 % kvartiili   12.000000\n",
       "Maksimi          30.000000"
      ]
     },
     "execution_count": 11,
     "metadata": {},
     "output_type": "execute_result"
    }
   ],
   "source": [
    "def descriptive_stats(df: pd.DataFrame, col: str) -> pd.DataFrame:\n",
    "    \"\"\"\n",
    "    Laskee kuvailevat tunnusluvut numeeriselle sarakkeelle ja nimeää rivit suomeksi.\n",
    "    \"\"\"\n",
    "    df_time = df.dropna(subset=[col])\n",
    "    desc = (\n",
    "        df_time[col]\n",
    "        .describe()\n",
    "        .rename({\n",
    "            \"count\": \"Lukumäärä\",\n",
    "            \"mean\": \"Keskiarvo\",\n",
    "            \"std\": \"Keskihajonta\",\n",
    "            \"min\": \"Minimi\",\n",
    "            \"25%\": \"25 % kvartiili\",\n",
    "            \"50%\": \"Mediaani\",\n",
    "            \"75%\": \"75 % kvartiili\",\n",
    "            \"max\": \"Maksimi\"\n",
    "        })\n",
    "    )\n",
    "    return desc.to_frame(name=\"Arvo\")\n",
    "\n",
    "time_var = (\n",
    "    \"Opinnäytetyön tekemiseen kulunut aika ensimmäisistä \"\n",
    "    \"aihekaavailuista työn valmistumiseen:kuukautta\"\n",
    ")\n",
    "\n",
    "stats_df = descriptive_stats(df, time_var)\n",
    "stats_df"
   ]
  },
  {
   "cell_type": "markdown",
   "id": "26159af8",
   "metadata": {},
   "source": [
    "## 3) Pivot-taulukko: “Ohjauskysymykset” keskiarvoina kenttä‐tasoittain\n",
    "\n",
    "Kysymykset:\n",
    "- “Sain riittävästi ohjausta”\n",
    "- “Ohjaajaani oli helppo lähestyä”\n",
    "- “Luotin ohjaajani neuvoihin”\n",
    "\n",
    "Tehdään pivot-taulukko, jossa rivi-indeksinä on **Opiskeluala** ja arvona kunkin kysymyksen keskiarvo."
   ]
  },
  {
   "cell_type": "code",
   "execution_count": 12,
   "id": "cd8d11ec",
   "metadata": {},
   "outputs": [
    {
     "data": {
      "text/html": [
       "<div>\n",
       "<style scoped>\n",
       "    .dataframe tbody tr th:only-of-type {\n",
       "        vertical-align: middle;\n",
       "    }\n",
       "\n",
       "    .dataframe tbody tr th {\n",
       "        vertical-align: top;\n",
       "    }\n",
       "\n",
       "    .dataframe thead th {\n",
       "        text-align: right;\n",
       "    }\n",
       "</style>\n",
       "<table border=\"1\" class=\"dataframe\">\n",
       "  <thead>\n",
       "    <tr style=\"text-align: right;\">\n",
       "      <th></th>\n",
       "      <th>Luotin ohjaajani neuvoihin</th>\n",
       "      <th>Ohjaajaani oli helppo lähestyä</th>\n",
       "      <th>Sain riittävästi ohjausta</th>\n",
       "    </tr>\n",
       "    <tr>\n",
       "      <th>Opiskeluala</th>\n",
       "      <th></th>\n",
       "      <th></th>\n",
       "      <th></th>\n",
       "    </tr>\n",
       "  </thead>\n",
       "  <tbody>\n",
       "    <tr>\n",
       "      <th>Kulttuuri</th>\n",
       "      <td>4.209677</td>\n",
       "      <td>4.467742</td>\n",
       "      <td>3.354839</td>\n",
       "    </tr>\n",
       "    <tr>\n",
       "      <th>Liiketalous</th>\n",
       "      <td>3.906250</td>\n",
       "      <td>3.875000</td>\n",
       "      <td>3.218750</td>\n",
       "    </tr>\n",
       "    <tr>\n",
       "      <th>Tekniikka</th>\n",
       "      <td>4.407407</td>\n",
       "      <td>4.703704</td>\n",
       "      <td>3.777778</td>\n",
       "    </tr>\n",
       "  </tbody>\n",
       "</table>\n",
       "</div>"
      ],
      "text/plain": [
       "             Luotin ohjaajani neuvoihin  Ohjaajaani oli helppo lähestyä  \\\n",
       "Opiskeluala                                                               \n",
       "Kulttuuri                      4.209677                        4.467742   \n",
       "Liiketalous                    3.906250                        3.875000   \n",
       "Tekniikka                      4.407407                        4.703704   \n",
       "\n",
       "             Sain riittävästi ohjausta  \n",
       "Opiskeluala                             \n",
       "Kulttuuri                     3.354839  \n",
       "Liiketalous                   3.218750  \n",
       "Tekniikka                     3.777778  "
      ]
     },
     "execution_count": 12,
     "metadata": {},
     "output_type": "execute_result"
    }
   ],
   "source": [
    "def guidance_pivot(df: pd.DataFrame, index_col: str, questions: list) -> pd.DataFrame:\n",
    "    \"\"\"\n",
    "    Luo pivot-taulukon, jossa riveinä on index_col (esim. 'Opiskeluala') \n",
    "    ja sarakkeina esitettynä kunkin kysymyksen keskiarvo.\n",
    "    \"\"\"\n",
    "    pivot = pd.pivot_table(\n",
    "        df,\n",
    "        index=index_col,\n",
    "        values=questions,\n",
    "        aggfunc=\"mean\"\n",
    "    )\n",
    "    return pivot\n",
    "\n",
    "questions = [\n",
    "    \"Sain riittävästi ohjausta\",\n",
    "    \"Ohjaajaani oli helppo lähestyä\",\n",
    "    \"Luotin ohjaajani neuvoihin\"\n",
    "]\n",
    "\n",
    "pivot_df = guidance_pivot(df, \"Opiskeluala\", questions)\n",
    "pivot_df"
   ]
  },
  {
   "cell_type": "markdown",
   "id": "5faf3341",
   "metadata": {},
   "source": [
    "# Yhteenveto\n",
    "\n",
    "Jupyter-notebookissa:\n",
    "- Tuodaan `Opinnäytetyökysely.xlsx` pandas‐DataFrameksi (sheet: “Kysely”).\n",
    "- Lasketaan kuvailevat tunnusluvut sarakkeesta **“Opinnäytetyön tekemiseen kulunut aika…”** ja näytetään tulos DataFrame‐taulukkona.\n",
    "- Luodaan pivot-taulukko, jossa lasketaan kenttä‐tasoiset (Opiskeluala) keskiarvot kolmesta ohjausta mittaavasta kysymyksestä (“Sain riittävästi ohjausta”, “Ohjaajaani oli helppo lähestyä”, “Luotin ohjaajani neuvoihin”)."
   ]
  }
 ],
 "metadata": {
  "kernelspec": {
   "display_name": "env",
   "language": "python",
   "name": "python3"
  },
  "language_info": {
   "codemirror_mode": {
    "name": "ipython",
    "version": 3
   },
   "file_extension": ".py",
   "mimetype": "text/x-python",
   "name": "python",
   "nbconvert_exporter": "python",
   "pygments_lexer": "ipython3",
   "version": "3.12.10"
  }
 },
 "nbformat": 4,
 "nbformat_minor": 5
}
