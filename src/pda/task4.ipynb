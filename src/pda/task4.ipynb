{
 "cells": [
  {
   "cell_type": "markdown",
   "id": "2f380697",
   "metadata": {},
   "source": [
    "# Python ja data-analytiikka\n",
    "# Palautettava tehtävä 4"
   ]
  },
  {
   "cell_type": "code",
   "execution_count": null,
   "id": "de92fc99",
   "metadata": {},
   "outputs": [
    {
     "name": "stdout",
     "output_type": "stream",
     "text": [
      "<class 'pandas.core.frame.DataFrame'>\n",
      "RangeIndex: 242 entries, 0 to 241\n",
      "Data columns (total 42 columns):\n",
      " #   Column                                                                                                  Non-Null Count  Dtype  \n",
      "---  ------                                                                                                  --------------  -----  \n",
      " 0   Aikaleima                                                                                               242 non-null    object \n",
      " 1   Kuinka löysit aiheesi?                                                                                  242 non-null    object \n",
      " 2   Opinnäytetyöni oli hankkeistettu                                                                        242 non-null    object \n",
      " 3   Oliko työsi teoreettinen vai käytännöllinen? Teoreettinen (1) - Käytännöllinen (5)                      242 non-null    int64  \n",
      " 4   Pystyin itse vaikuttamaan aiheen valintaan                                                              242 non-null    int64  \n",
      " 5   Olin innostunut opinnäytetyötä tehdessäni                                                               242 non-null    int64  \n",
      " 6   Pystyin itse vaikuttamaan opinnäytetyöni ohjaajan valintaan                                             242 non-null    int64  \n",
      " 7   Sain riittävästi ohjausta                                                                               242 non-null    int64  \n",
      " 8   Hankin itse aktiivisesti tietoa työni aiheesta                                                          242 non-null    int64  \n",
      " 9   Tutkimusaiheeni kiinnosti minua                                                                         242 non-null    int64  \n",
      " 10  Sain muilta opiskelijoilta tukea työni tekemisessä                                                      242 non-null    int64  \n",
      " 11  Työn toimeksiantaja oli kiinnostunut työstäni                                                           154 non-null    float64\n",
      " 12  Työn toimeksiantaja oli kiinnostunut ohjaamaan työtäni                                                  154 non-null    float64\n",
      " 13  Ohjaajani panos tuki työtäni                                                                            242 non-null    int64  \n",
      " 14  Saamani ohjaus oli asiantuntevaa                                                                        242 non-null    int64  \n",
      " 15  Valmistauduin ohjauspalavereihin                                                                        242 non-null    int64  \n",
      " 16  Saamani ohjaus oli motivoivaa                                                                           242 non-null    int64  \n",
      " 17  Työni ohjaaja vastasi nopeasti tiedusteluihini                                                          242 non-null    int64  \n",
      " 18  Ohjaustilanteet eivät tuntuneet minusta pelottavilta                                                    242 non-null    int64  \n",
      " 19  Ohjaajaani oli helppo lähestyä                                                                          242 non-null    int64  \n",
      " 20  Luotin ohjaajani neuvoihin                                                                              242 non-null    int64  \n",
      " 21  Eri ohjaustapojen käyttäminen ja niiden hyödyllisyys: Seminaarit                                        242 non-null    int64  \n",
      " 22  Eri ohjaustapojen käyttäminen ja niiden hyödyllisyys: Henkilökohtaiset tapaamiset ohjaajan kanssa       242 non-null    int64  \n",
      " 23  Eri ohjaustapojen käyttäminen ja niiden hyödyllisyys: Sähköiset yhteydet ohjaajan kanssa                242 non-null    int64  \n",
      " 24  Eri ohjaustapojen käyttäminen ja niiden hyödyllisyys: Keskustelut toimeksiantajan kanssa                242 non-null    int64  \n",
      " 25  Hyödyllisyys: Seminaarit                                                                                214 non-null    float64\n",
      " 26  Hyödyllisyys:Henkilökohtaiset tapaamiset ohjaajan kanssa                                                220 non-null    float64\n",
      " 27  Hyödyllisyys: Sähköiset yhteydet ohjaajan kanssa                                                        226 non-null    float64\n",
      " 28  Hyödyllisyys: Keskustelut toimeksiantajan kanssa                                                        180 non-null    float64\n",
      " 29  Ohjaajan tuki opinnäytetyön eri vaiheissa:aiheen valinnassa                                             242 non-null    int64  \n",
      " 30  Ohjaajan tuki opinnäytetyön eri vaiheissa:tutkimuskysymysten tai kehittämistehtävän rajauksessa         242 non-null    int64  \n",
      " 31  Ohjaajan tuki opinnäytetyön eri vaiheissa:menetelmien valinnassa                                        242 non-null    int64  \n",
      " 32  Ohjaajan tuki opinnäytetyön eri vaiheissa:aineiston analyysissa                                         242 non-null    int64  \n",
      " 33  Ohjaajan tuki opinnäytetyön eri vaiheissa:johtopäätösten ja yhteenvedon tekemisessa                     242 non-null    int64  \n",
      " 34  Ohjaajan tuki opinnäytetyön eri vaiheissa:raportoinnissa                                                242 non-null    int64  \n",
      " 35  Thesis grade                                                                                            78 non-null     float64\n",
      " 36  Opinnäytetyön tekemiseen kulunut aika ensimmäisistä aihekaavailuista työn valmistumiseen:kuukautta      234 non-null    float64\n",
      " 37  Opinnäytetyön tekemisaika työviikkoina (40 h) aihekuvauksen tekemisestä työn valmistumiseen:työviikkoa  204 non-null    float64\n",
      " 38  Oliko työ parityö?                                                                                      242 non-null    int64  \n",
      " 39  Opiskeluala                                                                                             242 non-null    object \n",
      " 40  Sukupuoli                                                                                               242 non-null    object \n",
      " 41  Ikä                                                                                                     240 non-null    float64\n",
      "dtypes: float64(10), int64(27), object(5)\n",
      "memory usage: 79.5+ KB\n"
     ]
    }
   ],
   "source": [
    "import pandas as pd\n",
    "# Aineiston lukeminen\n",
    "df = pd.read_excel(\n",
    "    r\"D:\\GitHub\\PythonDataAnalytics\\doc\\Opinnäytetyökysely.xlsx\", \n",
    "    sheet_name=\"Kysely\"\n",
    ")\n",
    "df.info()  # varmista, että muuttuja löytyy ja rivejä on odotetusti\n"
   ]
  },
  {
   "cell_type": "code",
   "execution_count": 3,
   "id": "44597256",
   "metadata": {},
   "outputs": [],
   "source": [
    "# Poistetaan rivit, joissa käsiteltävä aika-muuttuja puuttuu\n",
    "time_var = (\n",
    "    \"Opinnäytetyön tekemiseen kulunut aika ensimmäisistä \"\n",
    "    \"aihekaavailuista työn valmistumiseen:kuukautta\"\n",
    ")\n",
    "df_time = df.dropna(subset=[time_var])\n"
   ]
  },
  {
   "cell_type": "markdown",
   "id": "26159af8",
   "metadata": {},
   "source": [
    "## Tunnusluvut opinnäytetyön tekemiseen kuluneesta ajasta\n",
    "Lasketaan count, mean, std, min, 25 %, median (50 %), 75 % ja max.\n"
   ]
  },
  {
   "cell_type": "code",
   "execution_count": 4,
   "id": "cd8d11ec",
   "metadata": {},
   "outputs": [
    {
     "data": {
      "text/html": [
       "<div>\n",
       "<style scoped>\n",
       "    .dataframe tbody tr th:only-of-type {\n",
       "        vertical-align: middle;\n",
       "    }\n",
       "\n",
       "    .dataframe tbody tr th {\n",
       "        vertical-align: top;\n",
       "    }\n",
       "\n",
       "    .dataframe thead th {\n",
       "        text-align: right;\n",
       "    }\n",
       "</style>\n",
       "<table border=\"1\" class=\"dataframe\">\n",
       "  <thead>\n",
       "    <tr style=\"text-align: right;\">\n",
       "      <th></th>\n",
       "      <th>Arvo</th>\n",
       "    </tr>\n",
       "  </thead>\n",
       "  <tbody>\n",
       "    <tr>\n",
       "      <th>Lukumäärä</th>\n",
       "      <td>234.000000</td>\n",
       "    </tr>\n",
       "    <tr>\n",
       "      <th>Keskiarvo</th>\n",
       "      <td>8.918803</td>\n",
       "    </tr>\n",
       "    <tr>\n",
       "      <th>Keskihajonta</th>\n",
       "      <td>5.516638</td>\n",
       "    </tr>\n",
       "    <tr>\n",
       "      <th>Minimi</th>\n",
       "      <td>2.000000</td>\n",
       "    </tr>\n",
       "    <tr>\n",
       "      <th>25 % kvartiili</th>\n",
       "      <td>5.000000</td>\n",
       "    </tr>\n",
       "    <tr>\n",
       "      <th>Mediaani</th>\n",
       "      <td>8.000000</td>\n",
       "    </tr>\n",
       "    <tr>\n",
       "      <th>75 % kvartiili</th>\n",
       "      <td>12.000000</td>\n",
       "    </tr>\n",
       "    <tr>\n",
       "      <th>Maksimi</th>\n",
       "      <td>30.000000</td>\n",
       "    </tr>\n",
       "  </tbody>\n",
       "</table>\n",
       "</div>"
      ],
      "text/plain": [
       "                      Arvo\n",
       "Lukumäärä       234.000000\n",
       "Keskiarvo         8.918803\n",
       "Keskihajonta      5.516638\n",
       "Minimi            2.000000\n",
       "25 % kvartiili    5.000000\n",
       "Mediaani          8.000000\n",
       "75 % kvartiili   12.000000\n",
       "Maksimi          30.000000"
      ]
     },
     "execution_count": 4,
     "metadata": {},
     "output_type": "execute_result"
    }
   ],
   "source": [
    "# Tehdään kuvailevat tunnusluvut ja nimetään sarakkeet selkeiksi\n",
    "desc = df_time[time_var].describe().rename({\n",
    "    \"count\":      \"Lukumäärä\",\n",
    "    \"mean\":       \"Keskiarvo\",\n",
    "    \"std\":        \"Keskihajonta\",\n",
    "    \"min\":        \"Minimi\",\n",
    "    \"25%\":        \"25 % kvartiili\",\n",
    "    \"50%\":        \"Mediaani\",\n",
    "    \"75%\":        \"75 % kvartiili\",\n",
    "    \"max\":        \"Maksimi\"\n",
    "})\n",
    "desc.to_frame(name=\"Arvo\")\n"
   ]
  },
  {
   "cell_type": "markdown",
   "id": "408f14c5",
   "metadata": {},
   "source": [
    "## Pivot-taulukot ohjauskysymyksistä  \n",
    "Sijoitetaan riville opiskeluala ja sarakkeiksi  \n",
    "- Sain riittävästi ohjausta.  \n",
    "- Ohjaajaani oli helppo lähestyä  \n",
    "- Luotin ohjaajani neuvoihin  \n",
    "(näiden kysymysten numeric 1–5 asteikolla)"
   ]
  },
  {
   "cell_type": "code",
   "execution_count": null,
   "id": "7627db21",
   "metadata": {},
   "outputs": [
    {
     "data": {
      "text/html": [
       "<div>\n",
       "<style scoped>\n",
       "    .dataframe tbody tr th:only-of-type {\n",
       "        vertical-align: middle;\n",
       "    }\n",
       "\n",
       "    .dataframe tbody tr th {\n",
       "        vertical-align: top;\n",
       "    }\n",
       "\n",
       "    .dataframe thead th {\n",
       "        text-align: right;\n",
       "    }\n",
       "</style>\n",
       "<table border=\"1\" class=\"dataframe\">\n",
       "  <thead>\n",
       "    <tr style=\"text-align: right;\">\n",
       "      <th></th>\n",
       "      <th>Luotin ohjaajani neuvoihin</th>\n",
       "      <th>Ohjaajaani oli helppo lähestyä</th>\n",
       "      <th>Sain riittävästi ohjausta</th>\n",
       "    </tr>\n",
       "    <tr>\n",
       "      <th>Opiskeluala</th>\n",
       "      <th></th>\n",
       "      <th></th>\n",
       "      <th></th>\n",
       "    </tr>\n",
       "  </thead>\n",
       "  <tbody>\n",
       "    <tr>\n",
       "      <th>Kulttuuri</th>\n",
       "      <td>4.209677</td>\n",
       "      <td>4.467742</td>\n",
       "      <td>3.354839</td>\n",
       "    </tr>\n",
       "    <tr>\n",
       "      <th>Liiketalous</th>\n",
       "      <td>3.906250</td>\n",
       "      <td>3.875000</td>\n",
       "      <td>3.218750</td>\n",
       "    </tr>\n",
       "    <tr>\n",
       "      <th>Tekniikka</th>\n",
       "      <td>4.407407</td>\n",
       "      <td>4.703704</td>\n",
       "      <td>3.777778</td>\n",
       "    </tr>\n",
       "  </tbody>\n",
       "</table>\n",
       "</div>"
      ],
      "text/plain": [
       "             Luotin ohjaajani neuvoihin  Ohjaajaani oli helppo lähestyä  \\\n",
       "Opiskeluala                                                               \n",
       "Kulttuuri                      4.209677                        4.467742   \n",
       "Liiketalous                    3.906250                        3.875000   \n",
       "Tekniikka                      4.407407                        4.703704   \n",
       "\n",
       "             Sain riittävästi ohjausta  \n",
       "Opiskeluala                             \n",
       "Kulttuuri                     3.354839  \n",
       "Liiketalous                   3.218750  \n",
       "Tekniikka                     3.777778  "
      ]
     },
     "execution_count": 8,
     "metadata": {},
     "output_type": "execute_result"
    }
   ],
   "source": [
    "# Pivot-taulukko ohjauskysymyksistä (keskiarvot)\n",
    "questions = [\n",
    "    \"Sain riittävästi ohjausta\",\n",
    "    \"Ohjaajaani oli helppo lähestyä\",\n",
    "    \"Luotin ohjaajani neuvoihin\"\n",
    "]\n",
    "\n",
    "pivot = pd.pivot_table(\n",
    "    df,\n",
    "    index=\"Opiskeluala\",\n",
    "    values=questions,\n",
    "    aggfunc=\"mean\"\n",
    ")\n",
    "pivot\n"
   ]
  },
  {
   "cell_type": "markdown",
   "id": "5faf3341",
   "metadata": {},
   "source": [
    "### Yhteenveto  \n",
    "- Tehtävä 1: Aineisto puhdistettiin puuttuvien arvojen osalta ja laskettiin tunnusluvut.  \n",
    "- Tehtävä 2: Pivot-taulukossa opiskeluala vs. ohjauskysymysten keskiarvot.  "
   ]
  }
 ],
 "metadata": {
  "kernelspec": {
   "display_name": "env",
   "language": "python",
   "name": "python3"
  },
  "language_info": {
   "codemirror_mode": {
    "name": "ipython",
    "version": 3
   },
   "file_extension": ".py",
   "mimetype": "text/x-python",
   "name": "python",
   "nbconvert_exporter": "python",
   "pygments_lexer": "ipython3",
   "version": "3.12.10"
  }
 },
 "nbformat": 4,
 "nbformat_minor": 5
}
